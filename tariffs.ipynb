{
 "cells": [
  {
   "cell_type": "markdown",
   "metadata": {},
   "source": [
    "# Рекомендация тарифов"
   ]
  },
  {
   "cell_type": "markdown",
   "metadata": {},
   "source": [
    "В вашем распоряжении данные о поведении клиентов, которые уже перешли на эти тарифы (из проекта курса «Статистический анализ данных»). Нужно построить модель для задачи классификации, которая выберет подходящий тариф. Предобработка данных не понадобится — вы её уже сделали.\n",
    "\n",
    "Постройте модель с максимально большим значением *accuracy*. Чтобы сдать проект успешно, нужно довести долю правильных ответов по крайней мере до 0.75. Проверьте *accuracy* на тестовой выборке самостоятельно."
   ]
  },
  {
   "cell_type": "markdown",
   "metadata": {},
   "source": [
    "## 1. Откройте и изучите файл"
   ]
  },
  {
   "cell_type": "code",
   "execution_count": 1,
   "metadata": {},
   "outputs": [],
   "source": [
    "import pandas as pd\n",
    "import matplotlib.pyplot as plt\n",
    "import seaborn as sns\n",
    "from scipy.interpolate import make_interp_spline, BSpline\n",
    "from sklearn.tree import DecisionTreeClassifier\n",
    "from sklearn.ensemble import RandomForestClassifier\n",
    "from sklearn.linear_model import LogisticRegression\n",
    "from sklearn.model_selection import train_test_split\n",
    "from sklearn.metrics import accuracy_score\n",
    "import numpy as np\n",
    "\n",
    "data = pd.read_csv('/datasets/users_behavior.csv')\n"
   ]
  },
  {
   "cell_type": "code",
   "execution_count": 2,
   "metadata": {},
   "outputs": [
    {
     "data": {
      "text/html": [
       "<div>\n",
       "<style scoped>\n",
       "    .dataframe tbody tr th:only-of-type {\n",
       "        vertical-align: middle;\n",
       "    }\n",
       "\n",
       "    .dataframe tbody tr th {\n",
       "        vertical-align: top;\n",
       "    }\n",
       "\n",
       "    .dataframe thead th {\n",
       "        text-align: right;\n",
       "    }\n",
       "</style>\n",
       "<table border=\"1\" class=\"dataframe\">\n",
       "  <thead>\n",
       "    <tr style=\"text-align: right;\">\n",
       "      <th></th>\n",
       "      <th>calls</th>\n",
       "      <th>minutes</th>\n",
       "      <th>messages</th>\n",
       "      <th>mb_used</th>\n",
       "      <th>is_ultra</th>\n",
       "    </tr>\n",
       "  </thead>\n",
       "  <tbody>\n",
       "    <tr>\n",
       "      <td>0</td>\n",
       "      <td>40.0</td>\n",
       "      <td>311.90</td>\n",
       "      <td>83.0</td>\n",
       "      <td>19915.42</td>\n",
       "      <td>0</td>\n",
       "    </tr>\n",
       "    <tr>\n",
       "      <td>1</td>\n",
       "      <td>85.0</td>\n",
       "      <td>516.75</td>\n",
       "      <td>56.0</td>\n",
       "      <td>22696.96</td>\n",
       "      <td>0</td>\n",
       "    </tr>\n",
       "    <tr>\n",
       "      <td>2</td>\n",
       "      <td>77.0</td>\n",
       "      <td>467.66</td>\n",
       "      <td>86.0</td>\n",
       "      <td>21060.45</td>\n",
       "      <td>0</td>\n",
       "    </tr>\n",
       "    <tr>\n",
       "      <td>3</td>\n",
       "      <td>106.0</td>\n",
       "      <td>745.53</td>\n",
       "      <td>81.0</td>\n",
       "      <td>8437.39</td>\n",
       "      <td>1</td>\n",
       "    </tr>\n",
       "    <tr>\n",
       "      <td>4</td>\n",
       "      <td>66.0</td>\n",
       "      <td>418.74</td>\n",
       "      <td>1.0</td>\n",
       "      <td>14502.75</td>\n",
       "      <td>0</td>\n",
       "    </tr>\n",
       "  </tbody>\n",
       "</table>\n",
       "</div>"
      ],
      "text/plain": [
       "   calls  minutes  messages   mb_used  is_ultra\n",
       "0   40.0   311.90      83.0  19915.42         0\n",
       "1   85.0   516.75      56.0  22696.96         0\n",
       "2   77.0   467.66      86.0  21060.45         0\n",
       "3  106.0   745.53      81.0   8437.39         1\n",
       "4   66.0   418.74       1.0  14502.75         0"
      ]
     },
     "execution_count": 2,
     "metadata": {},
     "output_type": "execute_result"
    }
   ],
   "source": [
    "data.head()\n"
   ]
  },
  {
   "cell_type": "code",
   "execution_count": 3,
   "metadata": {},
   "outputs": [
    {
     "name": "stdout",
     "output_type": "stream",
     "text": [
      "<class 'pandas.core.frame.DataFrame'>\n",
      "RangeIndex: 3214 entries, 0 to 3213\n",
      "Data columns (total 5 columns):\n",
      "calls       3214 non-null float64\n",
      "minutes     3214 non-null float64\n",
      "messages    3214 non-null float64\n",
      "mb_used     3214 non-null float64\n",
      "is_ultra    3214 non-null int64\n",
      "dtypes: float64(4), int64(1)\n",
      "memory usage: 125.7 KB\n"
     ]
    }
   ],
   "source": [
    "data.info()"
   ]
  },
  {
   "cell_type": "markdown",
   "metadata": {},
   "source": [
    "## 2. Разбейте данные на выборки"
   ]
  },
  {
   "cell_type": "code",
   "execution_count": 4,
   "metadata": {},
   "outputs": [],
   "source": [
    "train, test = train_test_split(data, test_size = 0.2, random_state = 12345)\n",
    "train, valid = train_test_split(train, test_size = 0.25, random_state = 12345)\n",
    "#Разбиваем наш датасэт на тренировочную, валидационную и тестовую выборки. 60/20/20"
   ]
  },
  {
   "cell_type": "code",
   "execution_count": 5,
   "metadata": {},
   "outputs": [],
   "source": [
    "train_features = train.drop(columns = ['is_ultra'])\n",
    "train_target = train['is_ultra']\n",
    "valid_features = valid.drop(columns = ['is_ultra'])\n",
    "valid_target = valid['is_ultra']\n",
    "test_features = test.drop(columns = ['is_ultra'])\n",
    "test_target = test['is_ultra']"
   ]
  },
  {
   "cell_type": "markdown",
   "metadata": {},
   "source": [
    "## 3. Исследуйте модели"
   ]
  },
  {
   "cell_type": "markdown",
   "metadata": {},
   "source": [
    "#Наша задача представляет собой задачу классификации. Есть 3 модели, ее решающие: DecisionTreeClassifier, RandomForestClassifier и LogisticRegression. Поочереди обучим их, перебирая гиперпараметры и выберем лучшую по метрике accuracy."
   ]
  },
  {
   "cell_type": "markdown",
   "metadata": {},
   "source": [
    "# DecisionTreeClassifier"
   ]
  },
  {
   "cell_type": "code",
   "execution_count": 6,
   "metadata": {},
   "outputs": [
    {
     "name": "stdout",
     "output_type": "stream",
     "text": [
      "Точность модели на тренировочной выборке с max_depth = 3 0.8117219917012448\n",
      "Точность модели на валидационной выборке с max_depth = 3 0.7651632970451011\n",
      "Точность модели на тренировочной выборке с max_depth = 4 0.8205394190871369\n",
      "Точность модели на валидационной выборке с max_depth = 4 0.7636080870917574\n",
      "Точность модели на тренировочной выборке с max_depth = 5 0.8272821576763485\n",
      "Точность модели на валидационной выборке с max_depth = 5 0.7589424572317263\n",
      "Точность модели на тренировочной выборке с max_depth = 6 0.8335062240663901\n",
      "Точность модели на валидационной выборке с max_depth = 6 0.7573872472783826\n",
      "Точность модели на тренировочной выборке с max_depth = 7 0.8506224066390041\n",
      "Точность модели на валидационной выборке с max_depth = 7 0.7744945567651633\n",
      "Точность модели на тренировочной выборке с max_depth = 8 0.8661825726141079\n",
      "Точность модели на валидационной выборке с max_depth = 8 0.7667185069984448\n"
     ]
    }
   ],
   "source": [
    "iterations_number = []\n",
    "valid_iterations = []\n",
    "train_iterations = []\n",
    "for i in range(3, 9):\n",
    "    iterations_number.append(i)\n",
    "    model_tree = DecisionTreeClassifier(max_depth = i, random_state = 12345)\n",
    "    model_tree.fit(train_features, train_target)\n",
    "    train_predictions_tree = model_tree.predict(train_features)\n",
    "    valid_predictions_tree = model_tree.predict(valid_features)\n",
    "    train_accuracy_tree = accuracy_score(train_target, train_predictions_tree)\n",
    "    train_iterations.append(train_accuracy_tree)\n",
    "    valid_accuracy_tree = accuracy_score(valid_target, valid_predictions_tree)\n",
    "    valid_iterations.append(valid_accuracy_tree)\n",
    "    print('Точность модели на тренировочной выборке с max_depth =', str(i),  train_accuracy_tree)\n",
    "    print('Точность модели на валидационной выборке с max_depth =', str(i), valid_accuracy_tree)"
   ]
  },
  {
   "cell_type": "code",
   "execution_count": 7,
   "metadata": {},
   "outputs": [],
   "source": [
    "d = {'max_depth': iterations_number, 'train_iteration': train_iterations, 'valid_iteration' : valid_iterations}\n",
    "data_tree = pd.DataFrame(data=d)\n"
   ]
  },
  {
   "cell_type": "code",
   "execution_count": 8,
   "metadata": {},
   "outputs": [],
   "source": [
    "data_tree_melted = data_tree.melt('max_depth', var_name = 'iterations', value_name = 'vals')"
   ]
  },
  {
   "cell_type": "code",
   "execution_count": 9,
   "metadata": {},
   "outputs": [
    {
     "data": {
      "image/png": "[encoded data removed]",
      "text/plain": [
       "<Figure size 1080x576 with 1 Axes>"
      ]
     },
     "metadata": {
      "needs_background": "light"
     },
     "output_type": "display_data"
    }
   ],
   "source": [
    "plt.rcParams.update({'font.size': 13})\n",
    "plt.figure(figsize = (15,8))\n",
    "ax = sns.barplot(x='max_depth', y= 'vals', hue = 'iterations', data=data_tree_melted)\n",
    "plt.title('Результаты точности предсказаний на выборках при различной высоте дерева')\n",
    "plt.xlabel('Высота дерева')\n",
    "plt.ylabel('')\n",
    "plt.xticks(rotation = 45)\n",
    "plt.legend(loc = 'best')\n",
    "plt.show()"
   ]
  },
  {
   "cell_type": "code",
   "execution_count": 10,
   "metadata": {},
   "outputs": [
    {
     "data": {
      "image/png": "[encoded data removed]",
      "text/plain": [
       "<Figure size 1080x576 with 1 Axes>"
      ]
     },
     "metadata": {
      "needs_background": "light"
     },
     "output_type": "display_data"
    }
   ],
   "source": [
    "plt.rcParams.update({'font.size': 13})\n",
    "plt.figure(figsize = (15,8))\n",
    "ax = sns.lineplot(x='max_depth', y= 'vals', hue = 'iterations', data=data_tree_melted)\n",
    "plt.title('Результаты точности предсказаний на выборках при различной высоте дерева')\n",
    "plt.xlabel('Высота дерева')\n",
    "plt.ylabel('')\n",
    "plt.xticks(rotation = 45)\n",
    "plt.legend(loc = 'best')\n",
    "plt.show()"
   ]
  },
  {
   "cell_type": "markdown",
   "metadata": {},
   "source": [
    "#В ТЗ есть цель, чтобы метрика точности была не ниже 0.75 --> все деревья проходят, но с глубиной 3 лучше всех, так и не будем чрезмерно усложнять модель, выберем первое дерево, затем проверим еще на тестовой выборке. \n",
    "Также можно сделать вывод по тому, что точность моделей на тренировочных и валидационных выборках отличаются не столь сильно, то переобучение отсутствует."
   ]
  },
  {
   "cell_type": "markdown",
   "metadata": {},
   "source": [
    "# RandomForestClassifier"
   ]
  },
  {
   "cell_type": "code",
   "execution_count": 11,
   "metadata": {},
   "outputs": [
    {
     "name": "stdout",
     "output_type": "stream",
     "text": [
      "Точность модели с max_depth = 3 количеством деревьев = 3 минимальный размер листа 1 0.76049766718507\n",
      "Точность модели с max_depth = 3 количеством деревьев = 3 минимальный размер листа 3 0.76049766718507\n",
      "Точность модели с max_depth = 3 количеством деревьев = 3 минимальный размер листа 5 0.76049766718507\n",
      "Точность модели с max_depth = 3 количеством деревьев = 3 минимальный размер листа 7 0.7589424572317263\n",
      "Точность модели с max_depth = 3 количеством деревьев = 3 минимальный размер листа 9 0.7589424572317263\n",
      "Точность модели с max_depth = 3 количеством деревьев = 3 минимальный размер листа 11 0.7589424572317263\n",
      "Точность модели с max_depth = 3 количеством деревьев = 3 минимальный размер листа 13 0.7620528771384136\n",
      "Точность модели с max_depth = 3 количеством деревьев = 3 минимальный размер листа 15 0.7620528771384136\n",
      "Точность модели с max_depth = 3 количеством деревьев = 3 минимальный размер листа 17 0.7620528771384136\n",
      "Точность модели с max_depth = 3 количеством деревьев = 3 минимальный размер листа 19 0.7573872472783826\n",
      "Точность модели с max_depth = 3 количеством деревьев = 5 минимальный размер листа 1 0.76049766718507\n",
      "Точность модели с max_depth = 3 количеством деревьев = 5 минимальный размер листа 3 0.76049766718507\n",
      "Точность модели с max_depth = 3 количеством деревьев = 5 минимальный размер листа 5 0.76049766718507\n",
      "Точность модели с max_depth = 3 количеством деревьев = 5 минимальный размер листа 7 0.76049766718507\n",
      "Точность модели с max_depth = 3 количеством деревьев = 5 минимальный размер листа 9 0.76049766718507\n",
      "Точность модели с max_depth = 3 количеством деревьев = 5 минимальный размер листа 11 0.76049766718507\n",
      "Точность модели с max_depth = 3 количеством деревьев = 5 минимальный размер листа 13 0.7667185069984448\n",
      "Точность модели с max_depth = 3 количеством деревьев = 5 минимальный размер листа 15 0.7651632970451011\n",
      "Точность модели с max_depth = 3 количеством деревьев = 5 минимальный размер листа 17 0.7651632970451011\n",
      "Точность модели с max_depth = 3 количеством деревьев = 5 минимальный размер листа 19 0.7667185069984448\n",
      "Точность модели с max_depth = 3 количеством деревьев = 7 минимальный размер листа 1 0.7682737169517885\n",
      "Точность модели с max_depth = 3 количеством деревьев = 7 минимальный размер листа 3 0.7682737169517885\n",
      "Точность модели с max_depth = 3 количеством деревьев = 7 минимальный размер листа 5 0.7682737169517885\n",
      "Точность модели с max_depth = 3 количеством деревьев = 7 минимальный размер листа 7 0.7698289269051322\n",
      "Точность модели с max_depth = 3 количеством деревьев = 7 минимальный размер листа 9 0.7682737169517885\n",
      "Точность модели с max_depth = 3 количеством деревьев = 7 минимальный размер листа 11 0.7682737169517885\n",
      "Точность модели с max_depth = 3 количеством деревьев = 7 минимальный размер листа 13 0.7651632970451011\n",
      "Точность модели с max_depth = 3 количеством деревьев = 7 минимальный размер листа 15 0.7651632970451011\n",
      "Точность модели с max_depth = 3 количеством деревьев = 7 минимальный размер листа 17 0.7651632970451011\n",
      "Точность модели с max_depth = 3 количеством деревьев = 7 минимальный размер листа 19 0.7620528771384136\n",
      "Точность модели с max_depth = 3 количеством деревьев = 9 минимальный размер листа 1 0.7682737169517885\n",
      "Точность модели с max_depth = 3 количеством деревьев = 9 минимальный размер листа 3 0.7682737169517885\n",
      "Точность модели с max_depth = 3 количеством деревьев = 9 минимальный размер листа 5 0.7682737169517885\n",
      "Точность модели с max_depth = 3 количеством деревьев = 9 минимальный размер листа 7 0.7698289269051322\n",
      "Точность модели с max_depth = 3 количеством деревьев = 9 минимальный размер листа 9 0.7682737169517885\n",
      "Точность модели с max_depth = 3 количеством деревьев = 9 минимальный размер листа 11 0.7667185069984448\n",
      "Точность модели с max_depth = 3 количеством деревьев = 9 минимальный размер листа 13 0.7682737169517885\n",
      "Точность модели с max_depth = 3 количеством деревьев = 9 минимальный размер листа 15 0.7667185069984448\n",
      "Точность модели с max_depth = 3 количеством деревьев = 9 минимальный размер листа 17 0.7682737169517885\n",
      "Точность модели с max_depth = 3 количеством деревьев = 9 минимальный размер листа 19 0.7636080870917574\n",
      "Точность модели с max_depth = 3 количеством деревьев = 11 минимальный размер листа 1 0.7744945567651633\n",
      "Точность модели с max_depth = 3 количеством деревьев = 11 минимальный размер листа 3 0.7744945567651633\n",
      "Точность модели с max_depth = 3 количеством деревьев = 11 минимальный размер листа 5 0.7744945567651633\n",
      "Точность модели с max_depth = 3 количеством деревьев = 11 минимальный размер листа 7 0.7744945567651633\n",
      "Точность модели с max_depth = 3 количеством деревьев = 11 минимальный размер листа 9 0.7713841368584758\n",
      "Точность модели с max_depth = 3 количеством деревьев = 11 минимальный размер листа 11 0.7698289269051322\n",
      "Точность модели с max_depth = 3 количеством деревьев = 11 минимальный размер листа 13 0.7667185069984448\n",
      "Точность модели с max_depth = 3 количеством деревьев = 11 минимальный размер листа 15 0.7667185069984448\n",
      "Точность модели с max_depth = 3 количеством деревьев = 11 минимальный размер листа 17 0.7682737169517885\n",
      "Точность модели с max_depth = 3 количеством деревьев = 11 минимальный размер листа 19 0.7682737169517885\n",
      "Точность модели с max_depth = 3 количеством деревьев = 13 минимальный размер листа 1 0.7744945567651633\n",
      "Точность модели с max_depth = 3 количеством деревьев = 13 минимальный размер листа 3 0.7744945567651633\n",
      "Точность модели с max_depth = 3 количеством деревьев = 13 минимальный размер листа 5 0.7744945567651633\n",
      "Точность модели с max_depth = 3 количеством деревьев = 13 минимальный размер листа 7 0.7744945567651633\n",
      "Точность модели с max_depth = 3 количеством деревьев = 13 минимальный размер листа 9 0.7713841368584758\n",
      "Точность модели с max_depth = 3 количеством деревьев = 13 минимальный размер листа 11 0.7713841368584758\n",
      "Точность модели с max_depth = 3 количеством деревьев = 13 минимальный размер листа 13 0.7667185069984448\n",
      "Точность модели с max_depth = 3 количеством деревьев = 13 минимальный размер листа 15 0.7682737169517885\n",
      "Точность модели с max_depth = 3 количеством деревьев = 13 минимальный размер листа 17 0.7682737169517885\n",
      "Точность модели с max_depth = 3 количеством деревьев = 13 минимальный размер листа 19 0.7682737169517885\n",
      "Точность модели с max_depth = 3 количеством деревьев = 15 минимальный размер листа 1 0.7776049766718507\n",
      "Точность модели с max_depth = 3 количеством деревьев = 15 минимальный размер листа 3 0.776049766718507\n",
      "Точность модели с max_depth = 3 количеством деревьев = 15 минимальный размер листа 5 0.776049766718507\n",
      "Точность модели с max_depth = 3 количеством деревьев = 15 минимальный размер листа 7 0.7776049766718507\n",
      "Точность модели с max_depth = 3 количеством деревьев = 15 минимальный размер листа 9 0.7713841368584758\n",
      "Точность модели с max_depth = 3 количеством деревьев = 15 минимальный размер листа 11 0.7713841368584758\n",
      "Точность модели с max_depth = 3 количеством деревьев = 15 минимальный размер листа 13 0.7682737169517885\n",
      "Точность модели с max_depth = 3 количеством деревьев = 15 минимальный размер листа 15 0.7682737169517885\n",
      "Точность модели с max_depth = 3 количеством деревьев = 15 минимальный размер листа 17 0.7667185069984448\n",
      "Точность модели с max_depth = 3 количеством деревьев = 15 минимальный размер листа 19 0.7667185069984448\n",
      "Точность модели с max_depth = 3 количеством деревьев = 17 минимальный размер листа 1 0.7729393468118196\n",
      "Точность модели с max_depth = 3 количеством деревьев = 17 минимальный размер листа 3 0.7729393468118196\n",
      "Точность модели с max_depth = 3 количеством деревьев = 17 минимальный размер листа 5 0.7729393468118196\n",
      "Точность модели с max_depth = 3 количеством деревьев = 17 минимальный размер листа 7 0.7729393468118196\n",
      "Точность модели с max_depth = 3 количеством деревьев = 17 минимальный размер листа 9 0.7698289269051322\n",
      "Точность модели с max_depth = 3 количеством деревьев = 17 минимальный размер листа 11 0.7698289269051322\n",
      "Точность модели с max_depth = 3 количеством деревьев = 17 минимальный размер листа 13 0.7682737169517885\n",
      "Точность модели с max_depth = 3 количеством деревьев = 17 минимальный размер листа 15 0.7682737169517885\n",
      "Точность модели с max_depth = 3 количеством деревьев = 17 минимальный размер листа 17 0.7682737169517885\n",
      "Точность модели с max_depth = 3 количеством деревьев = 17 минимальный размер листа 19 0.7682737169517885\n",
      "Точность модели с max_depth = 3 количеством деревьев = 19 минимальный размер листа 1 0.7729393468118196\n",
      "Точность модели с max_depth = 3 количеством деревьев = 19 минимальный размер листа 3 0.7729393468118196\n",
      "Точность модели с max_depth = 3 количеством деревьев = 19 минимальный размер листа 5 0.7729393468118196\n",
      "Точность модели с max_depth = 3 количеством деревьев = 19 минимальный размер листа 7 0.7729393468118196\n",
      "Точность модели с max_depth = 3 количеством деревьев = 19 минимальный размер листа 9 0.7698289269051322\n",
      "Точность модели с max_depth = 3 количеством деревьев = 19 минимальный размер листа 11 0.7698289269051322\n",
      "Точность модели с max_depth = 3 количеством деревьев = 19 минимальный размер листа 13 0.7682737169517885\n",
      "Точность модели с max_depth = 3 количеством деревьев = 19 минимальный размер листа 15 0.7682737169517885\n",
      "Точность модели с max_depth = 3 количеством деревьев = 19 минимальный размер листа 17 0.7682737169517885\n",
      "Точность модели с max_depth = 3 количеством деревьев = 19 минимальный размер листа 19 0.7682737169517885\n",
      "Точность модели с max_depth = 4 количеством деревьев = 3 минимальный размер листа 1 0.7636080870917574\n",
      "Точность модели с max_depth = 4 количеством деревьев = 3 минимальный размер листа 3 0.7620528771384136\n",
      "Точность модели с max_depth = 4 количеством деревьев = 3 минимальный размер листа 5 0.7651632970451011\n",
      "Точность модели с max_depth = 4 количеством деревьев = 3 минимальный размер листа 7 0.7698289269051322\n",
      "Точность модели с max_depth = 4 количеством деревьев = 3 минимальный размер листа 9 0.7667185069984448\n",
      "Точность модели с max_depth = 4 количеством деревьев = 3 минимальный размер листа 11 0.7651632970451011\n",
      "Точность модели с max_depth = 4 количеством деревьев = 3 минимальный размер листа 13 0.7682737169517885\n",
      "Точность модели с max_depth = 4 количеством деревьев = 3 минимальный размер листа 15 0.7667185069984448\n",
      "Точность модели с max_depth = 4 количеством деревьев = 3 минимальный размер листа 17 0.7667185069984448\n",
      "Точность модели с max_depth = 4 количеством деревьев = 3 минимальный размер листа 19 0.7651632970451011\n",
      "Точность модели с max_depth = 4 количеством деревьев = 5 минимальный размер листа 1 0.7667185069984448\n",
      "Точность модели с max_depth = 4 количеством деревьев = 5 минимальный размер листа 3 0.7636080870917574\n",
      "Точность модели с max_depth = 4 количеством деревьев = 5 минимальный размер листа 5 0.7698289269051322\n",
      "Точность модели с max_depth = 4 количеством деревьев = 5 минимальный размер листа 7 0.7713841368584758\n",
      "Точность модели с max_depth = 4 количеством деревьев = 5 минимальный размер листа 9 0.7682737169517885\n",
      "Точность модели с max_depth = 4 количеством деревьев = 5 минимальный размер листа 11 0.7682737169517885\n",
      "Точность модели с max_depth = 4 количеством деревьев = 5 минимальный размер листа 13 0.7667185069984448\n",
      "Точность модели с max_depth = 4 количеством деревьев = 5 минимальный размер листа 15 0.7620528771384136\n",
      "Точность модели с max_depth = 4 количеством деревьев = 5 минимальный размер листа 17 0.7636080870917574\n",
      "Точность модели с max_depth = 4 количеством деревьев = 5 минимальный размер листа 19 0.7636080870917574\n",
      "Точность модели с max_depth = 4 количеством деревьев = 7 минимальный размер листа 1 0.776049766718507\n",
      "Точность модели с max_depth = 4 количеством деревьев = 7 минимальный размер листа 3 0.776049766718507\n",
      "Точность модели с max_depth = 4 количеством деревьев = 7 минимальный размер листа 5 0.7791601866251944\n",
      "Точность модели с max_depth = 4 количеством деревьев = 7 минимальный размер листа 7 0.7807153965785381\n",
      "Точность модели с max_depth = 4 количеством деревьев = 7 минимальный размер листа 9 0.7729393468118196\n",
      "Точность модели с max_depth = 4 количеством деревьев = 7 минимальный размер листа 11 0.7744945567651633\n",
      "Точность модели с max_depth = 4 количеством деревьев = 7 минимальный размер листа 13 0.7744945567651633\n",
      "Точность модели с max_depth = 4 количеством деревьев = 7 минимальный размер листа 15 0.7698289269051322\n",
      "Точность модели с max_depth = 4 количеством деревьев = 7 минимальный размер листа 17 0.7713841368584758\n",
      "Точность модели с max_depth = 4 количеством деревьев = 7 минимальный размер листа 19 0.7682737169517885\n",
      "Точность модели с max_depth = 4 количеством деревьев = 9 минимальный размер листа 1 0.776049766718507\n",
      "Точность модели с max_depth = 4 количеством деревьев = 9 минимальный размер листа 3 0.776049766718507\n",
      "Точность модели с max_depth = 4 количеством деревьев = 9 минимальный размер листа 5 0.776049766718507\n",
      "Точность модели с max_depth = 4 количеством деревьев = 9 минимальный размер листа 7 0.7776049766718507\n",
      "Точность модели с max_depth = 4 количеством деревьев = 9 минимальный размер листа 9 0.7729393468118196\n",
      "Точность модели с max_depth = 4 количеством деревьев = 9 минимальный размер листа 11 0.7744945567651633\n",
      "Точность модели с max_depth = 4 количеством деревьев = 9 минимальный размер листа 13 0.7729393468118196\n",
      "Точность модели с max_depth = 4 количеством деревьев = 9 минимальный размер листа 15 0.7729393468118196\n",
      "Точность модели с max_depth = 4 количеством деревьев = 9 минимальный размер листа 17 0.7729393468118196\n",
      "Точность модели с max_depth = 4 количеством деревьев = 9 минимальный размер листа 19 0.7713841368584758\n",
      "Точность модели с max_depth = 4 количеством деревьев = 11 минимальный размер листа 1 0.7776049766718507\n",
      "Точность модели с max_depth = 4 количеством деревьев = 11 минимальный размер листа 3 0.7776049766718507\n",
      "Точность модели с max_depth = 4 количеством деревьев = 11 минимальный размер листа 5 0.7791601866251944\n",
      "Точность модели с max_depth = 4 количеством деревьев = 11 минимальный размер листа 7 0.7776049766718507\n",
      "Точность модели с max_depth = 4 количеством деревьев = 11 минимальный размер листа 9 0.7744945567651633\n",
      "Точность модели с max_depth = 4 количеством деревьев = 11 минимальный размер листа 11 0.7744945567651633\n",
      "Точность модели с max_depth = 4 количеством деревьев = 11 минимальный размер листа 13 0.7729393468118196\n",
      "Точность модели с max_depth = 4 количеством деревьев = 11 минимальный размер листа 15 0.7729393468118196\n",
      "Точность модели с max_depth = 4 количеством деревьев = 11 минимальный размер листа 17 0.7729393468118196\n",
      "Точность модели с max_depth = 4 количеством деревьев = 11 минимальный размер листа 19 0.7682737169517885\n",
      "Точность модели с max_depth = 4 количеством деревьев = 13 минимальный размер листа 1 0.7744945567651633\n",
      "Точность модели с max_depth = 4 количеством деревьев = 13 минимальный размер листа 3 0.776049766718507\n",
      "Точность модели с max_depth = 4 количеством деревьев = 13 минимальный размер листа 5 0.776049766718507\n",
      "Точность модели с max_depth = 4 количеством деревьев = 13 минимальный размер листа 7 0.7776049766718507\n",
      "Точность модели с max_depth = 4 количеством деревьев = 13 минимальный размер листа 9 0.776049766718507\n",
      "Точность модели с max_depth = 4 количеством деревьев = 13 минимальный размер листа 11 0.7744945567651633\n",
      "Точность модели с max_depth = 4 количеством деревьев = 13 минимальный размер листа 13 0.7729393468118196\n",
      "Точность модели с max_depth = 4 количеством деревьев = 13 минимальный размер листа 15 0.7729393468118196\n",
      "Точность модели с max_depth = 4 количеством деревьев = 13 минимальный размер листа 17 0.7729393468118196\n",
      "Точность модели с max_depth = 4 количеством деревьев = 13 минимальный размер листа 19 0.7698289269051322\n",
      "Точность модели с max_depth = 4 количеством деревьев = 15 минимальный размер листа 1 0.7776049766718507\n",
      "Точность модели с max_depth = 4 количеством деревьев = 15 минимальный размер листа 3 0.7791601866251944\n",
      "Точность модели с max_depth = 4 количеством деревьев = 15 минимальный размер листа 5 0.7791601866251944\n",
      "Точность модели с max_depth = 4 количеством деревьев = 15 минимальный размер листа 7 0.7791601866251944\n",
      "Точность модели с max_depth = 4 количеством деревьев = 15 минимальный размер листа 9 0.7744945567651633\n",
      "Точность модели с max_depth = 4 количеством деревьев = 15 минимальный размер листа 11 0.7744945567651633\n",
      "Точность модели с max_depth = 4 количеством деревьев = 15 минимальный размер листа 13 0.7744945567651633\n",
      "Точность модели с max_depth = 4 количеством деревьев = 15 минимальный размер листа 15 0.7744945567651633\n",
      "Точность модели с max_depth = 4 количеством деревьев = 15 минимальный размер листа 17 0.7791601866251944\n",
      "Точность модели с max_depth = 4 количеством деревьев = 15 минимальный размер листа 19 0.7744945567651633\n",
      "Точность модели с max_depth = 4 количеством деревьев = 17 минимальный размер листа 1 0.7791601866251944\n",
      "Точность модели с max_depth = 4 количеством деревьев = 17 минимальный размер листа 3 0.7791601866251944\n",
      "Точность модели с max_depth = 4 количеством деревьев = 17 минимальный размер листа 5 0.7791601866251944\n",
      "Точность модели с max_depth = 4 количеством деревьев = 17 минимальный размер листа 7 0.7791601866251944\n",
      "Точность модели с max_depth = 4 количеством деревьев = 17 минимальный размер листа 9 0.7744945567651633\n",
      "Точность модели с max_depth = 4 количеством деревьев = 17 минимальный размер листа 11 0.7744945567651633\n",
      "Точность модели с max_depth = 4 количеством деревьев = 17 минимальный размер листа 13 0.7776049766718507\n",
      "Точность модели с max_depth = 4 количеством деревьев = 17 минимальный размер листа 15 0.7744945567651633\n",
      "Точность модели с max_depth = 4 количеством деревьев = 17 минимальный размер листа 17 0.7776049766718507\n",
      "Точность модели с max_depth = 4 количеством деревьев = 17 минимальный размер листа 19 0.7744945567651633\n",
      "Точность модели с max_depth = 4 количеством деревьев = 19 минимальный размер листа 1 0.7776049766718507\n",
      "Точность модели с max_depth = 4 количеством деревьев = 19 минимальный размер листа 3 0.7776049766718507\n",
      "Точность модели с max_depth = 4 количеством деревьев = 19 минимальный размер листа 5 0.7791601866251944\n",
      "Точность модели с max_depth = 4 количеством деревьев = 19 минимальный размер листа 7 0.7807153965785381\n",
      "Точность модели с max_depth = 4 количеством деревьев = 19 минимальный размер листа 9 0.7744945567651633\n",
      "Точность модели с max_depth = 4 количеством деревьев = 19 минимальный размер листа 11 0.7744945567651633\n",
      "Точность модели с max_depth = 4 количеством деревьев = 19 минимальный размер листа 13 0.7791601866251944\n",
      "Точность модели с max_depth = 4 количеством деревьев = 19 минимальный размер листа 15 0.776049766718507\n",
      "Точность модели с max_depth = 4 количеством деревьев = 19 минимальный размер листа 17 0.7791601866251944\n",
      "Точность модели с max_depth = 4 количеством деревьев = 19 минимальный размер листа 19 0.7744945567651633\n",
      "Точность модели с max_depth = 5 количеством деревьев = 3 минимальный размер листа 1 0.7636080870917574\n",
      "Точность модели с max_depth = 5 количеством деревьев = 3 минимальный размер листа 3 0.7651632970451011\n",
      "Точность модели с max_depth = 5 количеством деревьев = 3 минимальный размер листа 5 0.7698289269051322\n",
      "Точность модели с max_depth = 5 количеством деревьев = 3 минимальный размер листа 7 0.7651632970451011\n",
      "Точность модели с max_depth = 5 количеством деревьев = 3 минимальный размер листа 9 0.7620528771384136\n",
      "Точность модели с max_depth = 5 количеством деревьев = 3 минимальный размер листа 11 0.7651632970451011\n",
      "Точность модели с max_depth = 5 количеством деревьев = 3 минимальный размер листа 13 0.7636080870917574\n",
      "Точность модели с max_depth = 5 количеством деревьев = 3 минимальный размер листа 15 0.7636080870917574\n",
      "Точность модели с max_depth = 5 количеством деревьев = 3 минимальный размер листа 17 0.7651632970451011\n",
      "Точность модели с max_depth = 5 количеством деревьев = 3 минимальный размер листа 19 0.7776049766718507\n",
      "Точность модели с max_depth = 5 количеством деревьев = 5 минимальный размер листа 1 0.7698289269051322\n",
      "Точность модели с max_depth = 5 количеством деревьев = 5 минимальный размер листа 3 0.7620528771384136\n",
      "Точность модели с max_depth = 5 количеством деревьев = 5 минимальный размер листа 5 0.7729393468118196\n",
      "Точность модели с max_depth = 5 количеством деревьев = 5 минимальный размер листа 7 0.7682737169517885\n",
      "Точность модели с max_depth = 5 количеством деревьев = 5 минимальный размер листа 9 0.7667185069984448\n",
      "Точность модели с max_depth = 5 количеством деревьев = 5 минимальный размер листа 11 0.7682737169517885\n",
      "Точность модели с max_depth = 5 количеством деревьев = 5 минимальный размер листа 13 0.7636080870917574\n",
      "Точность модели с max_depth = 5 количеством деревьев = 5 минимальный размер листа 15 0.7620528771384136\n",
      "Точность модели с max_depth = 5 количеством деревьев = 5 минимальный размер листа 17 0.7636080870917574\n",
      "Точность модели с max_depth = 5 количеством деревьев = 5 минимальный размер листа 19 0.7713841368584758\n",
      "Точность модели с max_depth = 5 количеством деревьев = 7 минимальный размер листа 1 0.776049766718507\n",
      "Точность модели с max_depth = 5 количеством деревьев = 7 минимальный размер листа 3 0.7729393468118196\n",
      "Точность модели с max_depth = 5 количеством деревьев = 7 минимальный размер листа 5 0.7791601866251944\n",
      "Точность модели с max_depth = 5 количеством деревьев = 7 минимальный размер листа 7 0.7729393468118196\n",
      "Точность модели с max_depth = 5 количеством деревьев = 7 минимальный размер листа 9 0.7713841368584758\n",
      "Точность модели с max_depth = 5 количеством деревьев = 7 минимальный размер листа 11 0.7729393468118196\n",
      "Точность модели с max_depth = 5 количеством деревьев = 7 минимальный размер листа 13 0.7698289269051322\n",
      "Точность модели с max_depth = 5 количеством деревьев = 7 минимальный размер листа 15 0.7698289269051322\n",
      "Точность модели с max_depth = 5 количеством деревьев = 7 минимальный размер листа 17 0.7729393468118196\n",
      "Точность модели с max_depth = 5 количеством деревьев = 7 минимальный размер листа 19 0.7729393468118196\n",
      "Точность модели с max_depth = 5 количеством деревьев = 9 минимальный размер листа 1 0.7776049766718507\n",
      "Точность модели с max_depth = 5 количеством деревьев = 9 минимальный размер листа 3 0.7744945567651633\n",
      "Точность модели с max_depth = 5 количеством деревьев = 9 минимальный размер листа 5 0.7791601866251944\n",
      "Точность модели с max_depth = 5 количеством деревьев = 9 минимальный размер листа 7 0.776049766718507\n",
      "Точность модели с max_depth = 5 количеством деревьев = 9 минимальный размер листа 9 0.7744945567651633\n",
      "Точность модели с max_depth = 5 количеством деревьев = 9 минимальный размер листа 11 0.7744945567651633\n",
      "Точность модели с max_depth = 5 количеством деревьев = 9 минимальный размер листа 13 0.7729393468118196\n",
      "Точность модели с max_depth = 5 количеством деревьев = 9 минимальный размер листа 15 0.7713841368584758\n",
      "Точность модели с max_depth = 5 количеством деревьев = 9 минимальный размер листа 17 0.7729393468118196\n",
      "Точность модели с max_depth = 5 количеством деревьев = 9 минимальный размер листа 19 0.7744945567651633\n",
      "Точность модели с max_depth = 5 количеством деревьев = 11 минимальный размер листа 1 0.776049766718507\n",
      "Точность модели с max_depth = 5 количеством деревьев = 11 минимальный размер листа 3 0.7791601866251944\n",
      "Точность модели с max_depth = 5 количеством деревьев = 11 минимальный размер листа 5 0.7776049766718507\n",
      "Точность модели с max_depth = 5 количеством деревьев = 11 минимальный размер листа 7 0.7744945567651633\n",
      "Точность модели с max_depth = 5 количеством деревьев = 11 минимальный размер листа 9 0.7807153965785381\n",
      "Точность модели с max_depth = 5 количеством деревьев = 11 минимальный размер листа 11 0.776049766718507\n",
      "Точность модели с max_depth = 5 количеством деревьев = 11 минимальный размер листа 13 0.7776049766718507\n",
      "Точность модели с max_depth = 5 количеством деревьев = 11 минимальный размер листа 15 0.776049766718507\n",
      "Точность модели с max_depth = 5 количеством деревьев = 11 минимальный размер листа 17 0.776049766718507\n",
      "Точность модели с max_depth = 5 количеством деревьев = 11 минимальный размер листа 19 0.7791601866251944\n",
      "Точность модели с max_depth = 5 количеством деревьев = 13 минимальный размер листа 1 0.7776049766718507\n",
      "Точность модели с max_depth = 5 количеством деревьев = 13 минимальный размер листа 3 0.7776049766718507\n",
      "Точность модели с max_depth = 5 количеством деревьев = 13 минимальный размер листа 5 0.7776049766718507\n",
      "Точность модели с max_depth = 5 количеством деревьев = 13 минимальный размер листа 7 0.7744945567651633\n",
      "Точность модели с max_depth = 5 количеством деревьев = 13 минимальный размер листа 9 0.7776049766718507\n",
      "Точность модели с max_depth = 5 количеством деревьев = 13 минимальный размер листа 11 0.7776049766718507\n",
      "Точность модели с max_depth = 5 количеством деревьев = 13 минимальный размер листа 13 0.7791601866251944\n",
      "Точность модели с max_depth = 5 количеством деревьев = 13 минимальный размер листа 15 0.776049766718507\n",
      "Точность модели с max_depth = 5 количеством деревьев = 13 минимальный размер листа 17 0.7744945567651633\n",
      "Точность модели с max_depth = 5 количеством деревьев = 13 минимальный размер листа 19 0.7729393468118196\n",
      "Точность модели с max_depth = 5 количеством деревьев = 15 минимальный размер листа 1 0.7776049766718507\n",
      "Точность модели с max_depth = 5 количеством деревьев = 15 минимальный размер листа 3 0.776049766718507\n",
      "Точность модели с max_depth = 5 количеством деревьев = 15 минимальный размер листа 5 0.7807153965785381\n",
      "Точность модели с max_depth = 5 количеством деревьев = 15 минимальный размер листа 7 0.7776049766718507\n",
      "Точность модели с max_depth = 5 количеством деревьев = 15 минимальный размер листа 9 0.7807153965785381\n",
      "Точность модели с max_depth = 5 количеством деревьев = 15 минимальный размер листа 11 0.7807153965785381\n",
      "Точность модели с max_depth = 5 количеством деревьев = 15 минимальный размер листа 13 0.7807153965785381\n",
      "Точность модели с max_depth = 5 количеством деревьев = 15 минимальный размер листа 15 0.776049766718507\n",
      "Точность модели с max_depth = 5 количеством деревьев = 15 минимальный размер листа 17 0.7776049766718507\n",
      "Точность модели с max_depth = 5 количеством деревьев = 15 минимальный размер листа 19 0.776049766718507\n",
      "Точность модели с max_depth = 5 количеством деревьев = 17 минимальный размер листа 1 0.7744945567651633\n",
      "Точность модели с max_depth = 5 количеством деревьев = 17 минимальный размер листа 3 0.776049766718507\n",
      "Точность модели с max_depth = 5 количеством деревьев = 17 минимальный размер листа 5 0.7776049766718507\n",
      "Точность модели с max_depth = 5 количеством деревьев = 17 минимальный размер листа 7 0.776049766718507\n",
      "Точность модели с max_depth = 5 количеством деревьев = 17 минимальный размер листа 9 0.7791601866251944\n",
      "Точность модели с max_depth = 5 количеством деревьев = 17 минимальный размер листа 11 0.7807153965785381\n",
      "Точность модели с max_depth = 5 количеством деревьев = 17 минимальный размер листа 13 0.7822706065318819\n",
      "Точность модели с max_depth = 5 количеством деревьев = 17 минимальный размер листа 15 0.7744945567651633\n",
      "Точность модели с max_depth = 5 количеством деревьев = 17 минимальный размер листа 17 0.7776049766718507\n",
      "Точность модели с max_depth = 5 количеством деревьев = 17 минимальный размер листа 19 0.7776049766718507\n",
      "Точность модели с max_depth = 5 количеством деревьев = 19 минимальный размер листа 1 0.7776049766718507\n",
      "Точность модели с max_depth = 5 количеством деревьев = 19 минимальный размер листа 3 0.776049766718507\n",
      "Точность модели с max_depth = 5 количеством деревьев = 19 минимальный размер листа 5 0.7807153965785381\n",
      "Точность модели с max_depth = 5 количеством деревьев = 19 минимальный размер листа 7 0.7791601866251944\n",
      "Точность модели с max_depth = 5 количеством деревьев = 19 минимальный размер листа 9 0.7791601866251944\n",
      "Точность модели с max_depth = 5 количеством деревьев = 19 минимальный размер листа 11 0.7807153965785381\n",
      "Точность модели с max_depth = 5 количеством деревьев = 19 минимальный размер листа 13 0.7807153965785381\n",
      "Точность модели с max_depth = 5 количеством деревьев = 19 минимальный размер листа 15 0.7744945567651633\n",
      "Точность модели с max_depth = 5 количеством деревьев = 19 минимальный размер листа 17 0.7776049766718507\n",
      "Точность модели с max_depth = 5 количеством деревьев = 19 минимальный размер листа 19 0.776049766718507\n",
      "Точность модели с max_depth = 6 количеством деревьев = 3 минимальный размер листа 1 0.7791601866251944\n",
      "Точность модели с max_depth = 6 количеством деревьев = 3 минимальный размер листа 3 0.7776049766718507\n",
      "Точность модели с max_depth = 6 количеством деревьев = 3 минимальный размер листа 5 0.7807153965785381\n",
      "Точность модели с max_depth = 6 количеством деревьев = 3 минимальный размер листа 7 0.7729393468118196\n",
      "Точность модели с max_depth = 6 количеством деревьев = 3 минимальный размер листа 9 0.7682737169517885\n",
      "Точность модели с max_depth = 6 количеством деревьев = 3 минимальный размер листа 11 0.7744945567651633\n",
      "Точность модели с max_depth = 6 количеством деревьев = 3 минимальный размер листа 13 0.7698289269051322\n",
      "Точность модели с max_depth = 6 количеством деревьев = 3 минимальный размер листа 15 0.7682737169517885\n",
      "Точность модели с max_depth = 6 количеством деревьев = 3 минимальный размер листа 17 0.7698289269051322\n",
      "Точность модели с max_depth = 6 количеством деревьев = 3 минимальный размер листа 19 0.7713841368584758\n",
      "Точность модели с max_depth = 6 количеством деревьев = 5 минимальный размер листа 1 0.7853810264385692\n",
      "Точность модели с max_depth = 6 количеством деревьев = 5 минимальный размер листа 3 0.7744945567651633\n",
      "Точность модели с max_depth = 6 количеством деревьев = 5 минимальный размер листа 5 0.7729393468118196\n",
      "Точность модели с max_depth = 6 количеством деревьев = 5 минимальный размер листа 7 0.7713841368584758\n",
      "Точность модели с max_depth = 6 количеством деревьев = 5 минимальный размер листа 9 0.7744945567651633\n",
      "Точность модели с max_depth = 6 количеством деревьев = 5 минимальный размер листа 11 0.7744945567651633\n",
      "Точность модели с max_depth = 6 количеством деревьев = 5 минимальный размер листа 13 0.776049766718507\n",
      "Точность модели с max_depth = 6 количеством деревьев = 5 минимальный размер листа 15 0.7729393468118196\n",
      "Точность модели с max_depth = 6 количеством деревьев = 5 минимальный размер листа 17 0.7729393468118196\n",
      "Точность модели с max_depth = 6 количеством деревьев = 5 минимальный размер листа 19 0.7744945567651633\n",
      "Точность модели с max_depth = 6 количеством деревьев = 7 минимальный размер листа 1 0.7853810264385692\n",
      "Точность модели с max_depth = 6 количеством деревьев = 7 минимальный размер листа 3 0.776049766718507\n",
      "Точность модели с max_depth = 6 количеством деревьев = 7 минимальный размер листа 5 0.776049766718507\n",
      "Точность модели с max_depth = 6 количеством деревьев = 7 минимальный размер листа 7 0.776049766718507\n",
      "Точность модели с max_depth = 6 количеством деревьев = 7 минимальный размер листа 9 0.7776049766718507\n",
      "Точность модели с max_depth = 6 количеством деревьев = 7 минимальный размер листа 11 0.7807153965785381\n",
      "Точность модели с max_depth = 6 количеством деревьев = 7 минимальный размер листа 13 0.7838258164852255\n",
      "Точность модели с max_depth = 6 количеством деревьев = 7 минимальный размер листа 15 0.7776049766718507\n",
      "Точность модели с max_depth = 6 количеством деревьев = 7 минимальный размер листа 17 0.7776049766718507\n",
      "Точность модели с max_depth = 6 количеством деревьев = 7 минимальный размер листа 19 0.7791601866251944\n",
      "Точность модели с max_depth = 6 количеством деревьев = 9 минимальный размер листа 1 0.7838258164852255\n",
      "Точность модели с max_depth = 6 количеством деревьев = 9 минимальный размер листа 3 0.776049766718507\n",
      "Точность модели с max_depth = 6 количеством деревьев = 9 минимальный размер листа 5 0.7791601866251944\n",
      "Точность модели с max_depth = 6 количеством деревьев = 9 минимальный размер листа 7 0.7791601866251944\n",
      "Точность модели с max_depth = 6 количеством деревьев = 9 минимальный размер листа 9 0.7807153965785381\n",
      "Точность модели с max_depth = 6 количеством деревьев = 9 минимальный размер листа 11 0.7838258164852255\n",
      "Точность модели с max_depth = 6 количеством деревьев = 9 минимальный размер листа 13 0.7838258164852255\n",
      "Точность модели с max_depth = 6 количеством деревьев = 9 минимальный размер листа 15 0.7744945567651633\n",
      "Точность модели с max_depth = 6 количеством деревьев = 9 минимальный размер листа 17 0.776049766718507\n",
      "Точность модели с max_depth = 6 количеством деревьев = 9 минимальный размер листа 19 0.7744945567651633\n",
      "Точность модели с max_depth = 6 количеством деревьев = 11 минимальный размер листа 1 0.7807153965785381\n",
      "Точность модели с max_depth = 6 количеством деревьев = 11 минимальный размер листа 3 0.7807153965785381\n",
      "Точность модели с max_depth = 6 количеством деревьев = 11 минимальный размер листа 5 0.7822706065318819\n",
      "Точность модели с max_depth = 6 количеством деревьев = 11 минимальный размер листа 7 0.7776049766718507\n",
      "Точность модели с max_depth = 6 количеством деревьев = 11 минимальный размер листа 9 0.7791601866251944\n",
      "Точность модели с max_depth = 6 количеством деревьев = 11 минимальный размер листа 11 0.7791601866251944\n",
      "Точность модели с max_depth = 6 количеством деревьев = 11 минимальный размер листа 13 0.7822706065318819\n",
      "Точность модели с max_depth = 6 количеством деревьев = 11 минимальный размер листа 15 0.7807153965785381\n",
      "Точность модели с max_depth = 6 количеством деревьев = 11 минимальный размер листа 17 0.7791601866251944\n",
      "Точность модели с max_depth = 6 количеством деревьев = 11 минимальный размер листа 19 0.776049766718507\n",
      "Точность модели с max_depth = 6 количеством деревьев = 13 минимальный размер листа 1 0.7791601866251944\n",
      "Точность модели с max_depth = 6 количеством деревьев = 13 минимальный размер листа 3 0.7791601866251944\n",
      "Точность модели с max_depth = 6 количеством деревьев = 13 минимальный размер листа 5 0.776049766718507\n",
      "Точность модели с max_depth = 6 количеством деревьев = 13 минимальный размер листа 7 0.776049766718507\n",
      "Точность модели с max_depth = 6 количеством деревьев = 13 минимальный размер листа 9 0.7776049766718507\n",
      "Точность модели с max_depth = 6 количеством деревьев = 13 минимальный размер листа 11 0.7822706065318819\n",
      "Точность модели с max_depth = 6 количеством деревьев = 13 минимальный размер листа 13 0.7807153965785381\n",
      "Точность модели с max_depth = 6 количеством деревьев = 13 минимальный размер листа 15 0.7776049766718507\n",
      "Точность модели с max_depth = 6 количеством деревьев = 13 минимальный размер листа 17 0.7791601866251944\n",
      "Точность модели с max_depth = 6 количеством деревьев = 13 минимальный размер листа 19 0.776049766718507\n",
      "Точность модели с max_depth = 6 количеством деревьев = 15 минимальный размер листа 1 0.7853810264385692\n",
      "Точность модели с max_depth = 6 количеством деревьев = 15 минимальный размер листа 3 0.7776049766718507\n",
      "Точность модели с max_depth = 6 количеством деревьев = 15 минимальный размер листа 5 0.7838258164852255\n",
      "Точность модели с max_depth = 6 количеством деревьев = 15 минимальный размер листа 7 0.7822706065318819\n",
      "Точность модели с max_depth = 6 количеством деревьев = 15 минимальный размер листа 9 0.7822706065318819\n",
      "Точность модели с max_depth = 6 количеством деревьев = 15 минимальный размер листа 11 0.7807153965785381\n",
      "Точность модели с max_depth = 6 количеством деревьев = 15 минимальный размер листа 13 0.7822706065318819\n",
      "Точность модели с max_depth = 6 количеством деревьев = 15 минимальный размер листа 15 0.7791601866251944\n",
      "Точность модели с max_depth = 6 количеством деревьев = 15 минимальный размер листа 17 0.7776049766718507\n",
      "Точность модели с max_depth = 6 количеством деревьев = 15 минимальный размер листа 19 0.7791601866251944\n",
      "Точность модели с max_depth = 6 количеством деревьев = 17 минимальный размер листа 1 0.7822706065318819\n",
      "Точность модели с max_depth = 6 количеством деревьев = 17 минимальный размер листа 3 0.7776049766718507\n",
      "Точность модели с max_depth = 6 количеством деревьев = 17 минимальный размер листа 5 0.7853810264385692\n",
      "Точность модели с max_depth = 6 количеством деревьев = 17 минимальный размер листа 7 0.7838258164852255\n",
      "Точность модели с max_depth = 6 количеством деревьев = 17 минимальный размер листа 9 0.7838258164852255\n",
      "Точность модели с max_depth = 6 количеством деревьев = 17 минимальный размер листа 11 0.7838258164852255\n",
      "Точность модели с max_depth = 6 количеством деревьев = 17 минимальный размер листа 13 0.7822706065318819\n",
      "Точность модели с max_depth = 6 количеством деревьев = 17 минимальный размер листа 15 0.7776049766718507\n",
      "Точность модели с max_depth = 6 количеством деревьев = 17 минимальный размер листа 17 0.776049766718507\n",
      "Точность модели с max_depth = 6 количеством деревьев = 17 минимальный размер листа 19 0.7791601866251944\n",
      "Точность модели с max_depth = 6 количеством деревьев = 19 минимальный размер листа 1 0.7838258164852255\n",
      "Точность модели с max_depth = 6 количеством деревьев = 19 минимальный размер листа 3 0.7791601866251944\n",
      "Точность модели с max_depth = 6 количеством деревьев = 19 минимальный размер листа 5 0.7853810264385692\n",
      "Точность модели с max_depth = 6 количеством деревьев = 19 минимальный размер листа 7 0.7807153965785381\n",
      "Точность модели с max_depth = 6 количеством деревьев = 19 минимальный размер листа 9 0.7853810264385692\n",
      "Точность модели с max_depth = 6 количеством деревьев = 19 минимальный размер листа 11 0.7822706065318819\n",
      "Точность модели с max_depth = 6 количеством деревьев = 19 минимальный размер листа 13 0.7791601866251944\n",
      "Точность модели с max_depth = 6 количеством деревьев = 19 минимальный размер листа 15 0.776049766718507\n",
      "Точность модели с max_depth = 6 количеством деревьев = 19 минимальный размер листа 17 0.776049766718507\n",
      "Точность модели с max_depth = 6 количеством деревьев = 19 минимальный размер листа 19 0.7807153965785381\n",
      "Точность модели с max_depth = 7 количеством деревьев = 3 минимальный размер листа 1 0.776049766718507\n",
      "Точность модели с max_depth = 7 количеством деревьев = 3 минимальный размер листа 3 0.7838258164852255\n",
      "Точность модели с max_depth = 7 количеством деревьев = 3 минимальный размер листа 5 0.7776049766718507\n",
      "Точность модели с max_depth = 7 количеством деревьев = 3 минимальный размер листа 7 0.7822706065318819\n",
      "Точность модели с max_depth = 7 количеством деревьев = 3 минимальный размер листа 9 0.7853810264385692\n",
      "Точность модели с max_depth = 7 количеством деревьев = 3 минимальный размер листа 11 0.7776049766718507\n",
      "Точность модели с max_depth = 7 количеством деревьев = 3 минимальный размер листа 13 0.7744945567651633\n",
      "Точность модели с max_depth = 7 количеством деревьев = 3 минимальный размер листа 15 0.7729393468118196\n",
      "Точность модели с max_depth = 7 количеством деревьев = 3 минимальный размер листа 17 0.776049766718507\n",
      "Точность модели с max_depth = 7 количеством деревьев = 3 минимальный размер листа 19 0.7838258164852255\n",
      "Точность модели с max_depth = 7 количеством деревьев = 5 минимальный размер листа 1 0.7807153965785381\n",
      "Точность модели с max_depth = 7 количеством деревьев = 5 минимальный размер листа 3 0.7822706065318819\n",
      "Точность модели с max_depth = 7 количеством деревьев = 5 минимальный размер листа 5 0.7807153965785381\n",
      "Точность модели с max_depth = 7 количеством деревьев = 5 минимальный размер листа 7 0.7791601866251944\n",
      "Точность модели с max_depth = 7 количеством деревьев = 5 минимальный размер листа 9 0.7822706065318819\n",
      "Точность модели с max_depth = 7 количеством деревьев = 5 минимальный размер листа 11 0.7838258164852255\n",
      "Точность модели с max_depth = 7 количеством деревьев = 5 минимальный размер листа 13 0.7776049766718507\n",
      "Точность модели с max_depth = 7 количеством деревьев = 5 минимальный размер листа 15 0.7744945567651633\n",
      "Точность модели с max_depth = 7 количеством деревьев = 5 минимальный размер листа 17 0.7807153965785381\n",
      "Точность модели с max_depth = 7 количеством деревьев = 5 минимальный размер листа 19 0.7807153965785381\n",
      "Точность модели с max_depth = 7 количеством деревьев = 7 минимальный размер листа 1 0.7822706065318819\n",
      "Точность модели с max_depth = 7 количеством деревьев = 7 минимальный размер листа 3 0.7900466562986003\n",
      "Точность модели с max_depth = 7 количеством деревьев = 7 минимальный размер листа 5 0.7791601866251944\n",
      "Точность модели с max_depth = 7 количеством деревьев = 7 минимальный размер листа 7 0.7869362363919129\n",
      "Точность модели с max_depth = 7 количеством деревьев = 7 минимальный размер листа 9 0.7807153965785381\n",
      "Точность модели с max_depth = 7 количеством деревьев = 7 минимальный размер листа 11 0.7869362363919129\n",
      "Точность модели с max_depth = 7 количеством деревьев = 7 минимальный размер листа 13 0.7822706065318819\n",
      "Точность модели с max_depth = 7 количеством деревьев = 7 минимальный размер листа 15 0.7791601866251944\n",
      "Точность модели с max_depth = 7 количеством деревьев = 7 минимальный размер листа 17 0.7838258164852255\n",
      "Точность модели с max_depth = 7 количеством деревьев = 7 минимальный размер листа 19 0.7791601866251944\n",
      "Точность модели с max_depth = 7 количеством деревьев = 9 минимальный размер листа 1 0.7853810264385692\n",
      "Точность модели с max_depth = 7 количеством деревьев = 9 минимальный размер листа 3 0.7884914463452566\n",
      "Точность модели с max_depth = 7 количеством деревьев = 9 минимальный размер листа 5 0.7822706065318819\n",
      "Точность модели с max_depth = 7 количеством деревьев = 9 минимальный размер листа 7 0.7853810264385692\n",
      "Точность модели с max_depth = 7 количеством деревьев = 9 минимальный размер листа 9 0.7838258164852255\n",
      "Точность модели с max_depth = 7 количеством деревьев = 9 минимальный размер листа 11 0.7838258164852255\n",
      "Точность модели с max_depth = 7 количеством деревьев = 9 минимальный размер листа 13 0.7791601866251944\n",
      "Точность модели с max_depth = 7 количеством деревьев = 9 минимальный размер листа 15 0.7838258164852255\n",
      "Точность модели с max_depth = 7 количеством деревьев = 9 минимальный размер листа 17 0.7807153965785381\n",
      "Точность модели с max_depth = 7 количеством деревьев = 9 минимальный размер листа 19 0.7791601866251944\n",
      "Точность модели с max_depth = 7 количеством деревьев = 11 минимальный размер листа 1 0.7869362363919129\n",
      "Точность модели с max_depth = 7 количеством деревьев = 11 минимальный размер листа 3 0.7900466562986003\n",
      "Точность модели с max_depth = 7 количеством деревьев = 11 минимальный размер листа 5 0.7869362363919129\n",
      "Точность модели с max_depth = 7 количеством деревьев = 11 минимальный размер листа 7 0.7838258164852255\n",
      "Точность модели с max_depth = 7 количеством деревьев = 11 минимальный размер листа 9 0.7838258164852255\n",
      "Точность модели с max_depth = 7 количеством деревьев = 11 минимальный размер листа 11 0.7853810264385692\n",
      "Точность модели с max_depth = 7 количеством деревьев = 11 минимальный размер листа 13 0.7853810264385692\n",
      "Точность модели с max_depth = 7 количеством деревьев = 11 минимальный размер листа 15 0.7853810264385692\n",
      "Точность модели с max_depth = 7 количеством деревьев = 11 минимальный размер листа 17 0.7822706065318819\n",
      "Точность модели с max_depth = 7 количеством деревьев = 11 минимальный размер листа 19 0.7776049766718507\n",
      "Точность модели с max_depth = 7 количеством деревьев = 13 минимальный размер листа 1 0.7884914463452566\n",
      "Точность модели с max_depth = 7 количеством деревьев = 13 минимальный размер листа 3 0.7884914463452566\n",
      "Точность модели с max_depth = 7 количеством деревьев = 13 минимальный размер листа 5 0.7838258164852255\n",
      "Точность модели с max_depth = 7 количеством деревьев = 13 минимальный размер листа 7 0.7838258164852255\n",
      "Точность модели с max_depth = 7 количеством деревьев = 13 минимальный размер листа 9 0.7853810264385692\n",
      "Точность модели с max_depth = 7 количеством деревьев = 13 минимальный размер листа 11 0.7853810264385692\n",
      "Точность модели с max_depth = 7 количеством деревьев = 13 минимальный размер листа 13 0.7853810264385692\n",
      "Точность модели с max_depth = 7 количеством деревьев = 13 минимальный размер листа 15 0.7853810264385692\n",
      "Точность модели с max_depth = 7 количеством деревьев = 13 минимальный размер листа 17 0.7853810264385692\n",
      "Точность модели с max_depth = 7 количеством деревьев = 13 минимальный размер листа 19 0.7791601866251944\n",
      "Точность модели с max_depth = 7 количеством деревьев = 15 минимальный размер листа 1 0.7853810264385692\n",
      "Точность модели с max_depth = 7 количеством деревьев = 15 минимальный размер листа 3 0.7853810264385692\n",
      "Точность модели с max_depth = 7 количеством деревьев = 15 минимальный размер листа 5 0.7838258164852255\n",
      "Точность модели с max_depth = 7 количеством деревьев = 15 минимальный размер листа 7 0.7838258164852255\n",
      "Точность модели с max_depth = 7 количеством деревьев = 15 минимальный размер листа 9 0.7884914463452566\n",
      "Точность модели с max_depth = 7 количеством деревьев = 15 минимальный размер листа 11 0.7884914463452566\n",
      "Точность модели с max_depth = 7 количеством деревьев = 15 минимальный размер листа 13 0.7822706065318819\n",
      "Точность модели с max_depth = 7 количеством деревьев = 15 минимальный размер листа 15 0.7822706065318819\n",
      "Точность модели с max_depth = 7 количеством деревьев = 15 минимальный размер листа 17 0.7807153965785381\n",
      "Точность модели с max_depth = 7 количеством деревьев = 15 минимальный размер листа 19 0.7807153965785381\n",
      "Точность модели с max_depth = 7 количеством деревьев = 17 минимальный размер листа 1 0.7822706065318819\n",
      "Точность модели с max_depth = 7 количеством деревьев = 17 минимальный размер листа 3 0.7853810264385692\n",
      "Точность модели с max_depth = 7 количеством деревьев = 17 минимальный размер листа 5 0.7869362363919129\n",
      "Точность модели с max_depth = 7 количеством деревьев = 17 минимальный размер листа 7 0.7884914463452566\n",
      "Точность модели с max_depth = 7 количеством деревьев = 17 минимальный размер листа 9 0.7900466562986003\n",
      "Точность модели с max_depth = 7 количеством деревьев = 17 минимальный размер листа 11 0.7900466562986003\n",
      "Точность модели с max_depth = 7 количеством деревьев = 17 минимальный размер листа 13 0.7822706065318819\n",
      "Точность модели с max_depth = 7 количеством деревьев = 17 минимальный размер листа 15 0.7838258164852255\n",
      "Точность модели с max_depth = 7 количеством деревьев = 17 минимальный размер листа 17 0.7791601866251944\n",
      "Точность модели с max_depth = 7 количеством деревьев = 17 минимальный размер листа 19 0.7791601866251944\n",
      "Точность модели с max_depth = 7 количеством деревьев = 19 минимальный размер листа 1 0.7869362363919129\n",
      "Точность модели с max_depth = 7 количеством деревьев = 19 минимальный размер листа 3 0.7869362363919129\n",
      "Точность модели с max_depth = 7 количеством деревьев = 19 минимальный размер листа 5 0.7884914463452566\n",
      "Точность модели с max_depth = 7 количеством деревьев = 19 минимальный размер листа 7 0.7869362363919129\n",
      "Точность модели с max_depth = 7 количеством деревьев = 19 минимальный размер листа 9 0.7822706065318819\n",
      "Точность модели с max_depth = 7 количеством деревьев = 19 минимальный размер листа 11 0.7884914463452566\n",
      "Точность модели с max_depth = 7 количеством деревьев = 19 минимальный размер листа 13 0.7822706065318819\n",
      "Точность модели с max_depth = 7 количеством деревьев = 19 минимальный размер листа 15 0.7838258164852255\n",
      "Точность модели с max_depth = 7 количеством деревьев = 19 минимальный размер листа 17 0.7807153965785381\n",
      "Точность модели с max_depth = 7 количеством деревьев = 19 минимальный размер листа 19 0.7791601866251944\n",
      "Точность модели с max_depth = 8 количеством деревьев = 3 минимальный размер листа 1 0.7869362363919129\n",
      "Точность модели с max_depth = 8 количеством деревьев = 3 минимальный размер листа 3 0.7853810264385692\n",
      "Точность модели с max_depth = 8 количеством деревьев = 3 минимальный размер листа 5 0.7931570762052877\n",
      "Точность модели с max_depth = 8 количеством деревьев = 3 минимальный размер листа 7 0.7978227060653188\n",
      "Точность модели с max_depth = 8 количеством деревьев = 3 минимальный размер листа 9 0.7838258164852255\n",
      "Точность модели с max_depth = 8 количеством деревьев = 3 минимальный размер листа 11 0.7822706065318819\n",
      "Точность модели с max_depth = 8 количеством деревьев = 3 минимальный размер листа 13 0.7729393468118196\n",
      "Точность модели с max_depth = 8 количеством деревьев = 3 минимальный размер листа 15 0.7776049766718507\n",
      "Точность модели с max_depth = 8 количеством деревьев = 3 минимальный размер листа 17 0.776049766718507\n",
      "Точность модели с max_depth = 8 количеством деревьев = 3 минимальный размер листа 19 0.7713841368584758\n",
      "Точность модели с max_depth = 8 количеством деревьев = 5 минимальный размер листа 1 0.7822706065318819\n",
      "Точность модели с max_depth = 8 количеством деревьев = 5 минимальный размер листа 3 0.7838258164852255\n",
      "Точность модели с max_depth = 8 количеством деревьев = 5 минимальный размер листа 5 0.7916018662519441\n",
      "Точность модели с max_depth = 8 количеством деревьев = 5 минимальный размер листа 7 0.7884914463452566\n",
      "Точность модели с max_depth = 8 количеством деревьев = 5 минимальный размер листа 9 0.7884914463452566\n",
      "Точность модели с max_depth = 8 количеством деревьев = 5 минимальный размер листа 11 0.7853810264385692\n",
      "Точность модели с max_depth = 8 количеством деревьев = 5 минимальный размер листа 13 0.7807153965785381\n",
      "Точность модели с max_depth = 8 количеством деревьев = 5 минимальный размер листа 15 0.7791601866251944\n",
      "Точность модели с max_depth = 8 количеством деревьев = 5 минимальный размер листа 17 0.776049766718507\n",
      "Точность модели с max_depth = 8 количеством деревьев = 5 минимальный размер листа 19 0.7807153965785381\n",
      "Точность модели с max_depth = 8 количеством деревьев = 7 минимальный размер листа 1 0.7869362363919129\n",
      "Точность модели с max_depth = 8 количеством деревьев = 7 минимальный размер листа 3 0.7838258164852255\n",
      "Точность модели с max_depth = 8 количеством деревьев = 7 минимальный размер листа 5 0.7853810264385692\n",
      "Точность модели с max_depth = 8 количеством деревьев = 7 минимальный размер листа 7 0.7838258164852255\n",
      "Точность модели с max_depth = 8 количеством деревьев = 7 минимальный размер листа 9 0.7900466562986003\n",
      "Точность модели с max_depth = 8 количеством деревьев = 7 минимальный размер листа 11 0.7853810264385692\n",
      "Точность модели с max_depth = 8 количеством деревьев = 7 минимальный размер листа 13 0.7869362363919129\n",
      "Точность модели с max_depth = 8 количеством деревьев = 7 минимальный размер листа 15 0.7916018662519441\n",
      "Точность модели с max_depth = 8 количеством деревьев = 7 минимальный размер листа 17 0.7791601866251944\n",
      "Точность модели с max_depth = 8 количеством деревьев = 7 минимальный размер листа 19 0.7853810264385692\n",
      "Точность модели с max_depth = 8 количеством деревьев = 9 минимальный размер листа 1 0.7869362363919129\n",
      "Точность модели с max_depth = 8 количеством деревьев = 9 минимальный размер листа 3 0.7853810264385692\n",
      "Точность модели с max_depth = 8 количеством деревьев = 9 минимальный размер листа 5 0.7884914463452566\n",
      "Точность модели с max_depth = 8 количеством деревьев = 9 минимальный размер листа 7 0.7838258164852255\n",
      "Точность модели с max_depth = 8 количеством деревьев = 9 минимальный размер листа 9 0.7900466562986003\n",
      "Точность модели с max_depth = 8 количеством деревьев = 9 минимальный размер листа 11 0.7869362363919129\n",
      "Точность модели с max_depth = 8 количеством деревьев = 9 минимальный размер листа 13 0.7869362363919129\n",
      "Точность модели с max_depth = 8 количеством деревьев = 9 минимальный размер листа 15 0.7869362363919129\n",
      "Точность модели с max_depth = 8 количеством деревьев = 9 минимальный размер листа 17 0.7884914463452566\n",
      "Точность модели с max_depth = 8 количеством деревьев = 9 минимальный размер листа 19 0.7916018662519441\n",
      "Точность модели с max_depth = 8 количеством деревьев = 11 минимальный размер листа 1 0.7884914463452566\n",
      "Точность модели с max_depth = 8 количеством деревьев = 11 минимальный размер листа 3 0.7822706065318819\n",
      "Точность модели с max_depth = 8 количеством деревьев = 11 минимальный размер листа 5 0.7900466562986003\n",
      "Точность модели с max_depth = 8 количеством деревьев = 11 минимальный размер листа 7 0.7822706065318819\n",
      "Точность модели с max_depth = 8 количеством деревьев = 11 минимальный размер листа 9 0.7916018662519441\n",
      "Точность модели с max_depth = 8 количеством деревьев = 11 минимальный размер листа 11 0.7884914463452566\n",
      "Точность модели с max_depth = 8 количеством деревьев = 11 минимальный размер листа 13 0.7869362363919129\n",
      "Точность модели с max_depth = 8 количеством деревьев = 11 минимальный размер листа 15 0.7869362363919129\n",
      "Точность модели с max_depth = 8 количеством деревьев = 11 минимальный размер листа 17 0.7838258164852255\n",
      "Точность модели с max_depth = 8 количеством деревьев = 11 минимальный размер листа 19 0.7947122861586314\n",
      "Точность модели с max_depth = 8 количеством деревьев = 13 минимальный размер листа 1 0.7853810264385692\n",
      "Точность модели с max_depth = 8 количеством деревьев = 13 минимальный размер листа 3 0.7791601866251944\n",
      "Точность модели с max_depth = 8 количеством деревьев = 13 минимальный размер листа 5 0.7884914463452566\n",
      "Точность модели с max_depth = 8 количеством деревьев = 13 минимальный размер листа 7 0.7869362363919129\n",
      "Точность модели с max_depth = 8 количеством деревьев = 13 минимальный размер листа 9 0.7900466562986003\n",
      "Точность модели с max_depth = 8 количеством деревьев = 13 минимальный размер листа 11 0.7884914463452566\n",
      "Точность модели с max_depth = 8 количеством деревьев = 13 минимальный размер листа 13 0.7884914463452566\n",
      "Точность модели с max_depth = 8 количеством деревьев = 13 минимальный размер листа 15 0.7838258164852255\n",
      "Точность модели с max_depth = 8 количеством деревьев = 13 минимальный размер листа 17 0.7822706065318819\n",
      "Точность модели с max_depth = 8 количеством деревьев = 13 минимальный размер листа 19 0.7853810264385692\n",
      "Точность модели с max_depth = 8 количеством деревьев = 15 минимальный размер листа 1 0.7822706065318819\n",
      "Точность модели с max_depth = 8 количеством деревьев = 15 минимальный размер листа 3 0.7822706065318819\n",
      "Точность модели с max_depth = 8 количеством деревьев = 15 минимальный размер листа 5 0.7931570762052877\n",
      "Точность модели с max_depth = 8 количеством деревьев = 15 минимальный размер листа 7 0.7838258164852255\n",
      "Точность модели с max_depth = 8 количеством деревьев = 15 минимальный размер листа 9 0.7900466562986003\n",
      "Точность модели с max_depth = 8 количеством деревьев = 15 минимальный размер листа 11 0.7869362363919129\n",
      "Точность модели с max_depth = 8 количеством деревьев = 15 минимальный размер листа 13 0.7916018662519441\n",
      "Точность модели с max_depth = 8 количеством деревьев = 15 минимальный размер листа 15 0.7869362363919129\n",
      "Точность модели с max_depth = 8 количеством деревьев = 15 минимальный размер листа 17 0.7900466562986003\n",
      "Точность модели с max_depth = 8 количеством деревьев = 15 минимальный размер листа 19 0.7838258164852255\n",
      "Точность модели с max_depth = 8 количеством деревьев = 17 минимальный размер листа 1 0.7853810264385692\n",
      "Точность модели с max_depth = 8 количеством деревьев = 17 минимальный размер листа 3 0.7884914463452566\n",
      "Точность модели с max_depth = 8 количеством деревьев = 17 минимальный размер листа 5 0.7916018662519441\n",
      "Точность модели с max_depth = 8 количеством деревьев = 17 минимальный размер листа 7 0.7869362363919129\n",
      "Точность модели с max_depth = 8 количеством деревьев = 17 минимальный размер листа 9 0.7900466562986003\n",
      "Точность модели с max_depth = 8 количеством деревьев = 17 минимальный размер листа 11 0.7900466562986003\n",
      "Точность модели с max_depth = 8 количеством деревьев = 17 минимальный размер листа 13 0.7900466562986003\n",
      "Точность модели с max_depth = 8 количеством деревьев = 17 минимальный размер листа 15 0.7869362363919129\n",
      "Точность модели с max_depth = 8 количеством деревьев = 17 минимальный размер листа 17 0.7853810264385692\n",
      "Точность модели с max_depth = 8 количеством деревьев = 17 минимальный размер листа 19 0.7807153965785381\n",
      "Точность модели с max_depth = 8 количеством деревьев = 19 минимальный размер листа 1 0.7838258164852255\n",
      "Точность модели с max_depth = 8 количеством деревьев = 19 минимальный размер листа 3 0.7838258164852255\n",
      "Точность модели с max_depth = 8 количеством деревьев = 19 минимальный размер листа 5 0.7853810264385692\n",
      "Точность модели с max_depth = 8 количеством деревьев = 19 минимальный размер листа 7 0.7884914463452566\n",
      "Точность модели с max_depth = 8 количеством деревьев = 19 минимальный размер листа 9 0.7900466562986003\n",
      "Точность модели с max_depth = 8 количеством деревьев = 19 минимальный размер листа 11 0.7900466562986003\n",
      "Точность модели с max_depth = 8 количеством деревьев = 19 минимальный размер листа 13 0.7900466562986003\n",
      "Точность модели с max_depth = 8 количеством деревьев = 19 минимальный размер листа 15 0.7869362363919129\n",
      "Точность модели с max_depth = 8 количеством деревьев = 19 минимальный размер листа 17 0.7869362363919129\n",
      "Точность модели с max_depth = 8 количеством деревьев = 19 минимальный размер листа 19 0.7822706065318819\n"
     ]
    }
   ],
   "source": [
    "iterations_number = []\n",
    "valid_iterations = []\n",
    "train_iterations = []\n",
    "for i in range(3, 9):\n",
    "    for j in range(3,20,2):\n",
    "        for r in range(1,20,2):\n",
    "                iterations_number.append((i,j,r))\n",
    "                model_forest = RandomForestClassifier(max_depth = i, n_estimators = j, min_samples_leaf = r,  random_state = 12345)\n",
    "                model_forest.fit(train_features, train_target)\n",
    "                train_predictions_forest = model_forest.predict(train_features)\n",
    "                valid_predictions_forest = model_forest.predict(valid_features)\n",
    "                train_accuracy_forest = accuracy_score(train_target, train_predictions_forest)\n",
    "                train_iterations.append(train_accuracy_forest)\n",
    "                valid_accuracy_forest = accuracy_score(valid_target, valid_predictions_forest)\n",
    "                valid_iterations.append(valid_accuracy_forest)\n",
    "                print('Точность модели с max_depth =', str(i),  'количеством деревьев =', str(j), 'минимальный размер листа', str(r), valid_accuracy_forest)"
   ]
  },
  {
   "cell_type": "code",
   "execution_count": 12,
   "metadata": {},
   "outputs": [
    {
     "data": {
      "text/plain": [
       "0.08339329388305594"
      ]
     },
     "execution_count": 12,
     "metadata": {},
     "output_type": "execute_result"
    }
   ],
   "source": [
    "d = {'max_depth': iterations_number, 'train_iteration': train_iterations, 'valid_iteration' : valid_iterations}\n",
    "data_forest = pd.DataFrame(data=d)\n",
    "data_forest['diff'] = data_forest['train_iteration'] - data_forest['valid_iteration']\n",
    "max_diff = data_forest['diff'].max()\n",
    "max_diff"
   ]
  },
  {
   "cell_type": "markdown",
   "metadata": {},
   "source": [
    "#Максимальная разница 8.34%, думаю, что переобучение отсутствует."
   ]
  },
  {
   "cell_type": "code",
   "execution_count": 13,
   "metadata": {},
   "outputs": [
    {
     "data": {
      "text/plain": [
       "max_depth          (8, 3, 7)\n",
       "train_iteration      0.83973\n",
       "valid_iteration     0.797823\n",
       "diff               0.0419076\n",
       "Name: 453, dtype: object"
      ]
     },
     "execution_count": 13,
     "metadata": {},
     "output_type": "execute_result"
    }
   ],
   "source": [
    "data_forest.iloc[data_forest['valid_iteration'].idxmax()]"
   ]
  },
  {
   "cell_type": "code",
   "execution_count": 14,
   "metadata": {},
   "outputs": [
    {
     "data": {
      "image/png": "[encoded data removed]",
      "text/plain": [
       "<Figure size 1080x576 with 1 Axes>"
      ]
     },
     "metadata": {
      "needs_background": "light"
     },
     "output_type": "display_data"
    }
   ],
   "source": [
    "plt.rcParams.update({'font.size': 13})\n",
    "plt.figure(figsize = (15,8))\n",
    "xnew = np.linspace(data_forest.index.min(), data_forest.index.max(), 50)\n",
    "spl = make_interp_spline(data_forest.index, data_forest['train_iteration'], k = 3)\n",
    "y_smooth_train = spl(xnew)\n",
    "spl = make_interp_spline(data_forest.index, data_forest['valid_iteration'], k = 3)\n",
    "y_smooth_valid = spl(xnew)\n",
    "plt.fill_between(xnew, y_smooth_train, y_smooth_valid,  color=\"skyblue\", alpha=0.4)\n",
    "ax1 =  plt.plot(xnew, y_smooth_train, color=\"Slateblue\", alpha=0.6)\n",
    "ax2 = plt.plot(xnew, y_smooth_valid, color=\"Green\", alpha=0.6)\n",
    "plt.ylim(0.75, 0.88)\n",
    "plt.legend(labels = ['Train', 'Valid'])\n",
    "plt.title('Результаты сглаженной точности предсказаний на тренировочной и валидационной выборке')\n",
    "plt.xlabel('Итеррация')\n",
    "plt.ylabel('Точность')\n",
    "plt.show()"
   ]
  },
  {
   "cell_type": "markdown",
   "metadata": {},
   "source": [
    "#Получили, что наивысшая точность у модели случайного леса с максимальной глубиной дерева равной 8,количеством деревьев равным 3 и минимальным размером листа 7. Ну и что вне зависимости от гиперпараметров модели точность предсказаний на тренеровочном сэте всегда выше, но переобучения все же не наблюдается.\n"
   ]
  },
  {
   "cell_type": "markdown",
   "metadata": {},
   "source": [
    "# LogisticRegression"
   ]
  },
  {
   "cell_type": "code",
   "execution_count": 15,
   "metadata": {},
   "outputs": [
    {
     "name": "stdout",
     "output_type": "stream",
     "text": [
      "Точность модели логистической регресии 0.7262830482115086\n"
     ]
    }
   ],
   "source": [
    "model_logistic = LogisticRegression(random_state = 12345, solver='lbfgs', max_iter=1000)\n",
    "model_logistic.fit(train_features, train_target)\n",
    "valid_predictions_logistic = model_logistic.predict(valid_features)\n",
    "accuracy_logistic = accuracy_score(valid_target, valid_predictions_logistic)\n",
    "print('Точность модели логистической регресии', accuracy_logistic)"
   ]
  },
  {
   "cell_type": "markdown",
   "metadata": {},
   "source": [
    "#Точность логистической модели ниже заявленного минимума. Гиперпараметров там нет, значит не будем ее применять к тетовой выборке."
   ]
  },
  {
   "cell_type": "markdown",
   "metadata": {},
   "source": [
    "## 4. Проверьте модель на тестовой выборке"
   ]
  },
  {
   "cell_type": "code",
   "execution_count": 16,
   "metadata": {},
   "outputs": [
    {
     "name": "stdout",
     "output_type": "stream",
     "text": [
      "0.7869362363919129\n"
     ]
    }
   ],
   "source": [
    "model_tree = DecisionTreeClassifier(max_depth = 3, random_state = 12345)\n",
    "model_tree.fit(train_features, train_target)\n",
    "test_predictions_tree = model_tree.predict(test_features)\n",
    "accuracy_tree = accuracy_score(test_target, test_predictions_tree)\n",
    "print(accuracy_tree)"
   ]
  },
  {
   "cell_type": "markdown",
   "metadata": {},
   "source": [
    "#Снова обучили модель решающего дерева, но уже с наиболее удачным значением гиперпараметра, видим, что метрика снизилась, но по-прежнему остается выше требуемого минимума. "
   ]
  },
  {
   "cell_type": "code",
   "execution_count": 17,
   "metadata": {},
   "outputs": [
    {
     "name": "stdout",
     "output_type": "stream",
     "text": [
      "0.7916018662519441\n"
     ]
    }
   ],
   "source": [
    "model_forest = RandomForestClassifier(max_depth = 8, n_estimators =3, min_samples_leaf = 7,random_state = 12345)\n",
    "model_forest.fit(train_features, train_target)\n",
    "test_predictions_forest = model_forest.predict(test_features)\n",
    "accuracy_forest = accuracy_score(test_target, test_predictions_forest)\n",
    "print(accuracy_forest)"
   ]
  },
  {
   "cell_type": "markdown",
   "metadata": {},
   "source": [
    "#Тоже самое проделали с моделью случайного леса, таже картина."
   ]
  },
  {
   "cell_type": "markdown",
   "metadata": {},
   "source": [
    "## 5. (бонус) Проверьте модели на адекватность"
   ]
  },
  {
   "cell_type": "markdown",
   "metadata": {},
   "source": [
    "#Проверим сбалансированность классов в тестовой выборке."
   ]
  },
  {
   "cell_type": "code",
   "execution_count": 18,
   "metadata": {},
   "outputs": [
    {
     "data": {
      "text/plain": [
       "0.3048211508553655"
      ]
     },
     "execution_count": 18,
     "metadata": {},
     "output_type": "execute_result"
    }
   ],
   "source": [
    "test['is_ultra'].mean()"
   ]
  },
  {
   "cell_type": "markdown",
   "metadata": {},
   "source": [
    "#Исходя из этих значений констатная модель выдавала бы accuracy около 0,696 если бы был присвоен 0 всей выборке. Обе модели, которые успешно прошли проверку на тестовой выборке, имею accuracy выше этого значения, что подтверждает их адекватность. "
   ]
  },
  {
   "cell_type": "markdown",
   "metadata": {},
   "source": [
    "# Выводы"
   ]
  },
  {
   "cell_type": "markdown",
   "metadata": {},
   "source": [
    "#Выполняя задачу классификации нужно применить несколько моделей, в которых стоит перебрать значения гиперпараметров. Провести валидвцию - выбрать модели с наилучшими метриками и дальше их испытвать на выборке тестирования. В нашем случае 2 из 3 моделей выполнили задачу успешно: провели классификацию клиентов и превысили пороговое значение accuracy из ТЗ."
   ]
  },
  {
   "cell_type": "markdown",
   "metadata": {},
   "source": [
    "## Чек-лист готовности проекта"
   ]
  },
  {
   "cell_type": "markdown",
   "metadata": {},
   "source": [
    "Поставьте 'x' в выполненных пунктах. Далее нажмите Shift+Enter."
   ]
  },
  {
   "cell_type": "markdown",
   "metadata": {},
   "source": [
    "- [x] Jupyter Notebook открыт\n",
    "- [x] Весь код исполняется без ошибок\n",
    "- [x] Ячейки с кодом расположены в порядке исполнения\n",
    "- [x] Выполнено задание 1: данные загружены и изучены\n",
    "- [x] Выполнено задание 2: данные разбиты на три выборки\n",
    "- [x] Выполнено задание 3: проведено исследование моделей\n",
    "    - [x] Рассмотрено больше одной модели\n",
    "    - [x] Рассмотрено хотя бы 3 значения гипепараметров для какой-нибудь модели\n",
    "    - [x] Написаны выводы по результатам исследования\n",
    "- [x] Выполнено задание 3: Проведено тестирование\n",
    "- [x] Удалось достичь accuracy не меньше 0.75\n"
   ]
  }
 ],
 "metadata": {
  "kernelspec": {
   "display_name": "Python 3",
   "language": "python",
   "name": "python3"
  },
  "language_info": {
   "codemirror_mode": {
    "name": "ipython",
    "version": 3
   },
   "file_extension": ".py",
   "mimetype": "text/x-python",
   "name": "python",
   "nbconvert_exporter": "python",
   "pygments_lexer": "ipython3",
   "version": "3.7.3"
  }
 },
 "nbformat": 4,
 "nbformat_minor": 2
}
