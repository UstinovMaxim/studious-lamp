{
 "cells": [
  {
   "cell_type": "markdown",
   "metadata": {},
   "source": [
    "# Отток клиентов"
   ]
  },
  {
   "cell_type": "markdown",
   "metadata": {},
   "source": [
    "Из «Бета-Банка» стали уходить клиенты. Каждый месяц. Немного, но заметно. Банковские маркетологи посчитали: сохранять текущих клиентов дешевле, чем привлекать новых.\n",
    "\n",
    "Нужно спрогнозировать, уйдёт клиент из банка в ближайшее время или нет. Вам предоставлены исторические данные о поведении клиентов и расторжении договоров с банком. \n",
    "\n",
    "Постройте модель с предельно большим значением *F1*-меры. Чтобы сдать проект успешно, нужно довести метрику до 0.59. Проверьте *F1*-меру на тестовой выборке самостоятельно.\n",
    "\n",
    "Дополнительно измеряйте *AUC-ROC*, сравнивайте её значение с *F1*-мерой.\n",
    "\n",
    "Источник данных: [https://www.kaggle.com/barelydedicated/bank-customer-churn-modeling](https://www.kaggle.com/barelydedicated/bank-customer-churn-modeling)\n",
    "\n",
    "Признаки\n",
    "\n",
    "RowNumber — индекс строки в данных\n",
    "\n",
    "CustomerId — уникальный идентификатор клиента\n",
    "\n",
    "Surname — фамилия\n",
    "\n",
    "CreditScore — кредитный рейтинг\n",
    "\n",
    "Geography — страна проживания\n",
    "\n",
    "Gender — пол\n",
    "\n",
    "Age — возраст\n",
    "\n",
    "Tenure — количество недвижимости у клиента\n",
    "\n",
    "Balance — баланс на счёте\n",
    "\n",
    "NumOfProducts — количество продуктов банка, используемых клиентом\n",
    "\n",
    "HasCrCard — наличие кредитной карты\n",
    "\n",
    "IsActiveMember — активность клиента\n",
    "\n",
    "EstimatedSalary — предполагаемая зарплата\n",
    "\n",
    "Целевой признак\n",
    "\n",
    "Exited — факт ухода клиента"
   ]
  },
  {
   "cell_type": "markdown",
   "metadata": {},
   "source": [
    "# 1. Подготовка данных"
   ]
  },
  {
   "cell_type": "code",
   "execution_count": 120,
   "metadata": {},
   "outputs": [],
   "source": [
    "import pandas as pd\n",
    "from sklearn.tree import DecisionTreeClassifier\n",
    "from sklearn.ensemble import RandomForestClassifier\n",
    "from sklearn.ensemble import RandomForestRegressor\n",
    "from sklearn.linear_model import LogisticRegression\n",
    "from sklearn.model_selection import train_test_split\n",
    "from sklearn.metrics import f1_score\n",
    "from sklearn.metrics import roc_auc_score\n",
    "from sklearn.utils import shuffle\n",
    "from sklearn.metrics import roc_auc_score\n",
    "import matplotlib.pyplot as plt\n",
    "import numpy as np\n",
    "from scipy.interpolate import make_interp_spline, BSpline\n",
    "import warnings\n",
    "from sklearn.metrics import mean_squared_error"
   ]
  },
  {
   "cell_type": "code",
   "execution_count": 121,
   "metadata": {},
   "outputs": [],
   "source": [
    "warnings.filterwarnings('ignore')"
   ]
  },
  {
   "cell_type": "code",
   "execution_count": 122,
   "metadata": {},
   "outputs": [
    {
     "data": {
      "text/html": [
       "<div>\n",
       "<style scoped>\n",
       "    .dataframe tbody tr th:only-of-type {\n",
       "        vertical-align: middle;\n",
       "    }\n",
       "\n",
       "    .dataframe tbody tr th {\n",
       "        vertical-align: top;\n",
       "    }\n",
       "\n",
       "    .dataframe thead th {\n",
       "        text-align: right;\n",
       "    }\n",
       "</style>\n",
       "<table border=\"1\" class=\"dataframe\">\n",
       "  <thead>\n",
       "    <tr style=\"text-align: right;\">\n",
       "      <th></th>\n",
       "      <th>RowNumber</th>\n",
       "      <th>CustomerId</th>\n",
       "      <th>Surname</th>\n",
       "      <th>CreditScore</th>\n",
       "      <th>Geography</th>\n",
       "      <th>Gender</th>\n",
       "      <th>Age</th>\n",
       "      <th>Tenure</th>\n",
       "      <th>Balance</th>\n",
       "      <th>NumOfProducts</th>\n",
       "      <th>HasCrCard</th>\n",
       "      <th>IsActiveMember</th>\n",
       "      <th>EstimatedSalary</th>\n",
       "      <th>Exited</th>\n",
       "    </tr>\n",
       "  </thead>\n",
       "  <tbody>\n",
       "    <tr>\n",
       "      <td>0</td>\n",
       "      <td>1</td>\n",
       "      <td>15634602</td>\n",
       "      <td>Hargrave</td>\n",
       "      <td>619</td>\n",
       "      <td>France</td>\n",
       "      <td>Female</td>\n",
       "      <td>42</td>\n",
       "      <td>2.0</td>\n",
       "      <td>0.00</td>\n",
       "      <td>1</td>\n",
       "      <td>1</td>\n",
       "      <td>1</td>\n",
       "      <td>101348.88</td>\n",
       "      <td>1</td>\n",
       "    </tr>\n",
       "    <tr>\n",
       "      <td>1</td>\n",
       "      <td>2</td>\n",
       "      <td>15647311</td>\n",
       "      <td>Hill</td>\n",
       "      <td>608</td>\n",
       "      <td>Spain</td>\n",
       "      <td>Female</td>\n",
       "      <td>41</td>\n",
       "      <td>1.0</td>\n",
       "      <td>83807.86</td>\n",
       "      <td>1</td>\n",
       "      <td>0</td>\n",
       "      <td>1</td>\n",
       "      <td>112542.58</td>\n",
       "      <td>0</td>\n",
       "    </tr>\n",
       "    <tr>\n",
       "      <td>2</td>\n",
       "      <td>3</td>\n",
       "      <td>15619304</td>\n",
       "      <td>Onio</td>\n",
       "      <td>502</td>\n",
       "      <td>France</td>\n",
       "      <td>Female</td>\n",
       "      <td>42</td>\n",
       "      <td>8.0</td>\n",
       "      <td>159660.80</td>\n",
       "      <td>3</td>\n",
       "      <td>1</td>\n",
       "      <td>0</td>\n",
       "      <td>113931.57</td>\n",
       "      <td>1</td>\n",
       "    </tr>\n",
       "    <tr>\n",
       "      <td>3</td>\n",
       "      <td>4</td>\n",
       "      <td>15701354</td>\n",
       "      <td>Boni</td>\n",
       "      <td>699</td>\n",
       "      <td>France</td>\n",
       "      <td>Female</td>\n",
       "      <td>39</td>\n",
       "      <td>1.0</td>\n",
       "      <td>0.00</td>\n",
       "      <td>2</td>\n",
       "      <td>0</td>\n",
       "      <td>0</td>\n",
       "      <td>93826.63</td>\n",
       "      <td>0</td>\n",
       "    </tr>\n",
       "    <tr>\n",
       "      <td>4</td>\n",
       "      <td>5</td>\n",
       "      <td>15737888</td>\n",
       "      <td>Mitchell</td>\n",
       "      <td>850</td>\n",
       "      <td>Spain</td>\n",
       "      <td>Female</td>\n",
       "      <td>43</td>\n",
       "      <td>2.0</td>\n",
       "      <td>125510.82</td>\n",
       "      <td>1</td>\n",
       "      <td>1</td>\n",
       "      <td>1</td>\n",
       "      <td>79084.10</td>\n",
       "      <td>0</td>\n",
       "    </tr>\n",
       "  </tbody>\n",
       "</table>\n",
       "</div>"
      ],
      "text/plain": [
       "   RowNumber  CustomerId   Surname  CreditScore Geography  Gender  Age  \\\n",
       "0          1    15634602  Hargrave          619    France  Female   42   \n",
       "1          2    15647311      Hill          608     Spain  Female   41   \n",
       "2          3    15619304      Onio          502    France  Female   42   \n",
       "3          4    15701354      Boni          699    France  Female   39   \n",
       "4          5    15737888  Mitchell          850     Spain  Female   43   \n",
       "\n",
       "   Tenure    Balance  NumOfProducts  HasCrCard  IsActiveMember  \\\n",
       "0     2.0       0.00              1          1               1   \n",
       "1     1.0   83807.86              1          0               1   \n",
       "2     8.0  159660.80              3          1               0   \n",
       "3     1.0       0.00              2          0               0   \n",
       "4     2.0  125510.82              1          1               1   \n",
       "\n",
       "   EstimatedSalary  Exited  \n",
       "0        101348.88       1  \n",
       "1        112542.58       0  \n",
       "2        113931.57       1  \n",
       "3         93826.63       0  \n",
       "4         79084.10       0  "
      ]
     },
     "execution_count": 122,
     "metadata": {},
     "output_type": "execute_result"
    }
   ],
   "source": [
    "data = pd.read_csv('/datasets/Churn.csv')\n",
    "data.head()\n"
   ]
  },
  {
   "cell_type": "code",
   "execution_count": 123,
   "metadata": {},
   "outputs": [
    {
     "data": {
      "text/plain": [
       "(10000, 14)"
      ]
     },
     "execution_count": 123,
     "metadata": {},
     "output_type": "execute_result"
    }
   ],
   "source": [
    "data.shape"
   ]
  },
  {
   "cell_type": "code",
   "execution_count": 124,
   "metadata": {},
   "outputs": [
    {
     "name": "stdout",
     "output_type": "stream",
     "text": [
      "<class 'pandas.core.frame.DataFrame'>\n",
      "RangeIndex: 10000 entries, 0 to 9999\n",
      "Data columns (total 14 columns):\n",
      "RowNumber          10000 non-null int64\n",
      "CustomerId         10000 non-null int64\n",
      "Surname            10000 non-null object\n",
      "CreditScore        10000 non-null int64\n",
      "Geography          10000 non-null object\n",
      "Gender             10000 non-null object\n",
      "Age                10000 non-null int64\n",
      "Tenure             9091 non-null float64\n",
      "Balance            10000 non-null float64\n",
      "NumOfProducts      10000 non-null int64\n",
      "HasCrCard          10000 non-null int64\n",
      "IsActiveMember     10000 non-null int64\n",
      "EstimatedSalary    10000 non-null float64\n",
      "Exited             10000 non-null int64\n",
      "dtypes: float64(3), int64(8), object(3)\n",
      "memory usage: 1.1+ MB\n"
     ]
    }
   ],
   "source": [
    "data.info()"
   ]
  },
  {
   "cell_type": "code",
   "execution_count": 125,
   "metadata": {},
   "outputs": [],
   "source": [
    "data_ohe = pd.get_dummies(data, columns = ['Geography', 'Gender'],  drop_first=True)\n",
    "#Ввел дамми переменные для категориальных признаков, опуская один из каждой группы для избежания дамми-ловушки. "
   ]
  },
  {
   "cell_type": "markdown",
   "metadata": {},
   "source": [
    "#Построим тут модель регрессии случайного леса для заполенения пропусков. Обучающей выборкой будут та часть данных, где нет пропусков. В признаки не включу факт ухода клиента - это будет целевой признак в основном исследование. "
   ]
  },
  {
   "cell_type": "code",
   "execution_count": 126,
   "metadata": {},
   "outputs": [],
   "source": [
    "data_filtered = data_ohe.loc[~data['Tenure'].isna()]"
   ]
  },
  {
   "cell_type": "code",
   "execution_count": 127,
   "metadata": {},
   "outputs": [],
   "source": [
    "train_target, valid_target = train_test_split(data_ohe.loc[~data['Tenure'].isna(), 'Tenure'], \n",
    "                                              test_size = 0.25, random_state = 12345)\n",
    "train_features, valid_features = train_test_split(data_ohe.loc[~data['Tenure'].isna()].drop(columns = \n",
    "                                                                ['Exited', 'RowNumber', 'CustomerId', 'Surname', 'Tenure']),\n",
    "                                                test_size = 0.25, random_state = 12345)\n",
    "tofind_target = data_ohe.loc[data['Tenure'].isna(), 'Tenure']\n",
    "tofind_features = data_ohe.loc[data['Tenure'].isna()].drop(columns = \n",
    "                                                                ['Exited', 'RowNumber', 'CustomerId', 'Surname', 'Tenure'])"
   ]
  },
  {
   "cell_type": "code",
   "execution_count": 128,
   "metadata": {},
   "outputs": [
    {
     "name": "stdout",
     "output_type": "stream",
     "text": [
      "2.959694042522125\n"
     ]
    }
   ],
   "source": [
    "model = RandomForestRegressor(n_estimators = 20, max_depth = 20, random_state = 12345)\n",
    "model.fit(train_features, train_target)\n",
    "valid_predictions = model.predict(valid_features).round()\n",
    "mse = mean_squared_error(valid_target, valid_predictions)\n",
    "rmse = mse ** 0.5\n",
    "print(rmse)"
   ]
  },
  {
   "cell_type": "code",
   "execution_count": 129,
   "metadata": {},
   "outputs": [],
   "source": [
    "predictions = model.predict(tofind_features).round()"
   ]
  },
  {
   "cell_type": "code",
   "execution_count": 130,
   "metadata": {},
   "outputs": [],
   "source": [
    "data_ohe.loc[data['Tenure'].isna(), 'Tenure'] = predictions"
   ]
  },
  {
   "cell_type": "code",
   "execution_count": 131,
   "metadata": {},
   "outputs": [],
   "source": [
    "target = data_ohe['Exited']\n",
    "features = data_ohe.drop(columns = ['Exited', 'RowNumber', 'CustomerId', 'Surname'])\n",
    "train_features, valid_features, train_target, valid_target = train_test_split(features, target, test_size = 0.2, \n",
    "                                                                              random_state = 12345)\n",
    "train_features, test_features, train_target, test_target = train_test_split(train_features, train_target, test_size = 0.25, \n",
    "                                                                              random_state = 12345)\n"
   ]
  },
  {
   "cell_type": "code",
   "execution_count": 132,
   "metadata": {},
   "outputs": [
    {
     "data": {
      "text/plain": [
       "0    7963\n",
       "1    2037\n",
       "Name: Exited, dtype: int64"
      ]
     },
     "execution_count": 132,
     "metadata": {},
     "output_type": "execute_result"
    }
   ],
   "source": [
    "target.value_counts()"
   ]
  },
  {
   "cell_type": "markdown",
   "metadata": {},
   "source": [
    "#Присустствует дисбаланс классов, что отрицательно скажется на обучении моедели, но в начале исследования не будем обращать на это внимание и обучим модели без учета этого дисбаланса. "
   ]
  },
  {
   "cell_type": "markdown",
   "metadata": {},
   "source": [
    "# 2. Исследование задачи"
   ]
  },
  {
   "cell_type": "markdown",
   "metadata": {},
   "source": [
    "# Решающее дерево"
   ]
  },
  {
   "cell_type": "code",
   "execution_count": 133,
   "metadata": {},
   "outputs": [],
   "source": [
    "def tree(start, stop, learn_features, learn_target, features, target):\n",
    "    for i in range(start, stop):   \n",
    "        model = DecisionTreeClassifier(max_depth = i, random_state = 12345)\n",
    "        model.fit(learn_features, learn_target)\n",
    "        valid_predictions = model.predict(features)\n",
    "        probabilities_valid = model.predict_proba(features)\n",
    "        probabilities_one_valid = probabilities_valid[:, 1]\n",
    "        auc_roc = roc_auc_score(target, probabilities_one_valid)\n",
    "        print('Глубина дерева' , str(i), 'f1-мера' , str(f1_score(target, valid_predictions)), 'AUC_ROC', str(auc_roc))"
   ]
  },
  {
   "cell_type": "code",
   "execution_count": 134,
   "metadata": {},
   "outputs": [
    {
     "name": "stdout",
     "output_type": "stream",
     "text": [
      "Глубина дерева 3 f1-мера 0.4113475177304965 AUC_ROC 0.8100922922085365\n",
      "Глубина дерева 4 f1-мера 0.42456140350877186 AUC_ROC 0.8260800302529065\n",
      "Глубина дерева 5 f1-мера 0.5608011444921316 AUC_ROC 0.8468610376210971\n",
      "Глубина дерева 6 f1-мера 0.5096153846153846 AUC_ROC 0.8438000151860062\n",
      "Глубина дерева 7 f1-мера 0.5565217391304348 AUC_ROC 0.836246465903694\n",
      "Глубина дерева 8 f1-мера 0.552112676056338 AUC_ROC 0.8198656782859466\n",
      "Глубина дерева 9 f1-мера 0.5344352617079889 AUC_ROC 0.7746381785129923\n"
     ]
    }
   ],
   "source": [
    "tree(3, 10, train_features, train_target, valid_features, valid_target)"
   ]
  },
  {
   "cell_type": "markdown",
   "metadata": {},
   "source": [
    "#Решающие деревья различной глубины не достигают порогового значения f1-меры. "
   ]
  },
  {
   "cell_type": "markdown",
   "metadata": {},
   "source": [
    "# Логистическая регрессия"
   ]
  },
  {
   "cell_type": "code",
   "execution_count": 135,
   "metadata": {},
   "outputs": [],
   "source": [
    "def LogReg(learn_features, learn_target, features, target):\n",
    "    model = LogisticRegression(max_iter = 1000, solver = 'liblinear')\n",
    "    model.fit(learn_features, learn_target)\n",
    "    valid_predictions = model.predict(features)\n",
    "    probabilities_valid = model.predict_proba(features)\n",
    "    probabilities_one_valid = probabilities_valid[:, 1]\n",
    "    auc_roc = roc_auc_score(target, probabilities_one_valid)\n",
    "    print('f1-мера' , str(f1_score(target, valid_predictions)), 'AUC_ROC', str(auc_roc))"
   ]
  },
  {
   "cell_type": "code",
   "execution_count": 136,
   "metadata": {},
   "outputs": [
    {
     "name": "stdout",
     "output_type": "stream",
     "text": [
      "f1-мера 0.09896907216494845 AUC_ROC 0.6711440571351153\n"
     ]
    }
   ],
   "source": [
    "LogReg(train_features, train_target, valid_features, valid_target)"
   ]
  },
  {
   "cell_type": "markdown",
   "metadata": {},
   "source": [
    "#Здесь метрика f-1 в полу и AUC-ROC низкий."
   ]
  },
  {
   "cell_type": "markdown",
   "metadata": {},
   "source": [
    "# Случайный лес"
   ]
  },
  {
   "cell_type": "code",
   "execution_count": 137,
   "metadata": {},
   "outputs": [],
   "source": [
    "def forest(list_name, list_name_auc, start, stop, incr, start_d, stop_d, incr_d, learn_features, learn_target, features, target):\n",
    "    for i in range(start, stop, incr):\n",
    "        for j in range(start_d, stop_d, incr_d):\n",
    "            model = RandomForestClassifier(n_estimators = i, max_depth = j, random_state = 12345)\n",
    "            model.fit(learn_features, learn_target)\n",
    "            valid_predictions = model.predict(features)\n",
    "            list_name.append(f1_score(target, valid_predictions))\n",
    "            probabilities_valid = model.predict_proba(features)\n",
    "            probabilities_one_valid = probabilities_valid[:, 1]\n",
    "            auc_roc = roc_auc_score(target, probabilities_one_valid)\n",
    "            list_name_auc.append(auc_roc)\n",
    "            print('Число деревьев' , str(i), 'Макс глубина деревьев', str(j), 'f1-мера' , str(f1_score(target, valid_predictions)), 'AUC_ROC', str(auc_roc))\n",
    "    return list_name"
   ]
  },
  {
   "cell_type": "code",
   "execution_count": 138,
   "metadata": {},
   "outputs": [
    {
     "name": "stdout",
     "output_type": "stream",
     "text": [
      "Число деревьев 5 Макс глубина деревьев 3 f1-мера 0.3351749539594843 AUC_ROC 0.8007283327700615\n",
      "Число деревьев 5 Макс глубина деревьев 6 f1-мера 0.513302034428795 AUC_ROC 0.8435833912734062\n",
      "Число деревьев 5 Макс глубина деревьев 9 f1-мера 0.5368098159509201 AUC_ROC 0.8451280463202968\n",
      "Число деревьев 5 Макс глубина деревьев 12 f1-мера 0.5452016689847009 AUC_ROC 0.8254018708564164\n",
      "Число деревьев 5 Макс глубина деревьев 15 f1-мера 0.5056818181818182 AUC_ROC 0.7911023402826681\n",
      "Число деревьев 5 Макс глубина деревьев 18 f1-мера 0.5345997286295794 AUC_ROC 0.7890611623845603\n",
      "Число деревьев 10 Макс глубина деревьев 3 f1-мера 0.1924686192468619 AUC_ROC 0.8251949243007366\n",
      "Число деревьев 10 Макс глубина деревьев 6 f1-мера 0.5271565495207667 AUC_ROC 0.8596113275695988\n",
      "Число деревьев 10 Макс глубина деревьев 9 f1-мера 0.5521472392638037 AUC_ROC 0.8580190301501777\n",
      "Число деревьев 10 Макс глубина деревьев 12 f1-мера 0.5656565656565656 AUC_ROC 0.848696757787667\n",
      "Число деревьев 10 Макс глубина деревьев 15 f1-мера 0.5335320417287631 AUC_ROC 0.8261693597014015\n",
      "Число деревьев 10 Макс глубина деревьев 18 f1-мера 0.548905109489051 AUC_ROC 0.8173450990142495\n",
      "Число деревьев 15 Макс глубина деревьев 3 f1-мера 0.19958419958419962 AUC_ROC 0.8280490001801477\n",
      "Число деревьев 15 Макс глубина деревьев 6 f1-мера 0.5169628432956381 AUC_ROC 0.8600207542085336\n",
      "Число деревьев 15 Макс глубина деревьев 9 f1-мера 0.5306122448979592 AUC_ROC 0.8592391215342035\n",
      "Число деревьев 15 Макс глубина деревьев 12 f1-мера 0.5726744186046512 AUC_ROC 0.8558996889846369\n",
      "Число деревьев 15 Макс глубина деревьев 15 f1-мера 0.5581395348837209 AUC_ROC 0.8377122132710806\n",
      "Число деревьев 15 Макс глубина деревьев 18 f1-мера 0.5633802816901409 AUC_ROC 0.8325281276100949\n",
      "Число деревьев 20 Макс глубина деревьев 3 f1-мера 0.18828451882845187 AUC_ROC 0.8316214337078718\n",
      "Число деревьев 20 Макс глубина деревьев 6 f1-мера 0.5186385737439223 AUC_ROC 0.8619949350202704\n",
      "Число деревьев 20 Макс глубина деревьев 9 f1-мера 0.5281250000000001 AUC_ROC 0.8626284296925131\n",
      "Число деревьев 20 Макс глубина деревьев 12 f1-мера 0.5650887573964497 AUC_ROC 0.8554187987869061\n",
      "Число деревьев 20 Макс глубина деревьев 15 f1-мера 0.5406203840472673 AUC_ROC 0.8493563068823873\n",
      "Число деревьев 20 Макс глубина деревьев 18 f1-мера 0.5743145743145743 AUC_ROC 0.8438513796188908\n",
      "Число деревьев 25 Макс глубина деревьев 3 f1-мера 0.19206680584551145 AUC_ROC 0.8351923784114544\n",
      "Число деревьев 25 Макс глубина деревьев 6 f1-мера 0.5145631067961166 AUC_ROC 0.8621028747705349\n",
      "Число деревьев 25 Макс глубина деревьев 9 f1-мера 0.5383411580594679 AUC_ROC 0.8641016211806077\n",
      "Число деревьев 25 Макс глубина деревьев 12 f1-мера 0.5586924219910847 AUC_ROC 0.8590396190992314\n",
      "Число деревьев 25 Макс глубина деревьев 15 f1-мера 0.5586924219910847 AUC_ROC 0.8537721592863172\n",
      "Число деревьев 25 Макс глубина деревьев 18 f1-мера 0.5681492109038737 AUC_ROC 0.8446374787656458\n",
      "Число деревьев 30 Макс глубина деревьев 3 f1-мера 0.20331950207468882 AUC_ROC 0.8357544095249012\n",
      "Число деревьев 30 Макс глубина деревьев 6 f1-мера 0.5170731707317073 AUC_ROC 0.8645505016592946\n",
      "Число деревьев 30 Макс глубина деревьев 9 f1-мера 0.5507692307692308 AUC_ROC 0.8654266746666152\n",
      "Число деревьев 30 Макс глубина деревьев 12 f1-мера 0.5599999999999999 AUC_ROC 0.8628993956862809\n",
      "Число деревьев 30 Макс глубина деревьев 15 f1-мера 0.5595238095238095 AUC_ROC 0.856187032043962\n",
      "Число деревьев 30 Макс глубина деревьев 18 f1-мера 0.5640287769784172 AUC_ROC 0.8487138792652951\n",
      "Число деревьев 35 Макс глубина деревьев 3 f1-мера 0.21030927835051547 AUC_ROC 0.8374025378496317\n",
      "Число деревьев 35 Макс глубина деревьев 6 f1-мера 0.49917898193760263 AUC_ROC 0.8650596795157153\n",
      "Число деревьев 35 Макс глубина деревьев 9 f1-мера 0.5457364341085271 AUC_ROC 0.864176062387687\n",
      "Число деревьев 35 Макс глубина деревьев 12 f1-мера 0.5595238095238095 AUC_ROC 0.8636519962898502\n",
      "Число деревьев 35 Макс глубина деревьев 15 f1-мера 0.5611940298507463 AUC_ROC 0.8554024217213487\n",
      "Число деревьев 35 Макс глубина деревьев 18 f1-мера 0.5635838150289018 AUC_ROC 0.8489975002642662\n",
      "Число деревьев 40 Макс глубина деревьев 3 f1-мера 0.21030927835051547 AUC_ROC 0.8419479179538791\n",
      "Число деревьев 40 Макс глубина деревьев 6 f1-мера 0.4916943521594684 AUC_ROC 0.8665671139590663\n",
      "Число деревьев 40 Макс глубина деревьев 9 f1-мера 0.5499231950844854 AUC_ROC 0.8650589351036445\n",
      "Число деревьев 40 Макс глубина деревьев 12 f1-мера 0.5522388059701492 AUC_ROC 0.8638142781212826\n",
      "Число деревьев 40 Макс глубина деревьев 15 f1-мера 0.563338301043219 AUC_ROC 0.8558304586620534\n",
      "Число деревьев 40 Макс глубина деревьев 18 f1-мера 0.553935860058309 AUC_ROC 0.8526547967680604\n",
      "Число деревьев 45 Макс глубина деревьев 3 f1-мера 0.22810590631364563 AUC_ROC 0.8397742347071705\n",
      "Число деревьев 45 Макс глубина деревьев 6 f1-мера 0.5065359477124183 AUC_ROC 0.866425675665616\n",
      "Число деревьев 45 Макс глубина деревьев 9 f1-мера 0.5479876160990713 AUC_ROC 0.8653760546458013\n",
      "Число деревьев 45 Макс глубина деревьев 12 f1-мера 0.5543964232488823 AUC_ROC 0.8651043442399626\n",
      "Число деревьев 45 Макс глубина деревьев 15 f1-мера 0.564179104477612 AUC_ROC 0.857100425654822\n",
      "Число деревьев 45 Макс глубина деревьев 18 f1-мера 0.5614035087719298 AUC_ROC 0.85196696001465\n",
      "Число деревьев 50 Макс глубина деревьев 3 f1-мера 0.22085889570552147 AUC_ROC 0.8395896205136146\n",
      "Число деревьев 50 Макс глубина деревьев 6 f1-мера 0.5040916530278232 AUC_ROC 0.8667234404939324\n",
      "Число деревьев 50 Макс глубина деревьев 9 f1-мера 0.5488372093023256 AUC_ROC 0.8661755532098304\n",
      "Число деревьев 50 Макс глубина деревьев 12 f1-мера 0.5538922155688624 AUC_ROC 0.866756194625047\n",
      "Число деревьев 50 Макс глубина деревьев 15 f1-мера 0.564179104477612 AUC_ROC 0.8574986861126951\n",
      "Число деревьев 50 Макс глубина деревьев 18 f1-мера 0.5597667638483965 AUC_ROC 0.8542299727098535\n",
      "Число деревьев 55 Макс глубина деревьев 3 f1-мера 0.19206680584551145 AUC_ROC 0.8385139450713222\n",
      "Число деревьев 55 Макс глубина деревьев 6 f1-мера 0.5138211382113822 AUC_ROC 0.8660720799319905\n",
      "Число деревьев 55 Макс глубина деревьев 9 f1-мера 0.553323029366306 AUC_ROC 0.8667427952077729\n",
      "Число деревьев 55 Макс глубина деревьев 12 f1-мера 0.5525525525525524 AUC_ROC 0.8667159963732243\n",
      "Число деревьев 55 Макс глубина деревьев 15 f1-мера 0.564179104477612 AUC_ROC 0.8590463188078687\n",
      "Число деревьев 55 Макс глубина деревьев 18 f1-мера 0.5592972181551977 AUC_ROC 0.8552416287140578\n",
      "Число деревьев 60 Макс глубина деревьев 3 f1-мера 0.2066115702479339 AUC_ROC 0.8392747342076701\n",
      "Число деревьев 60 Макс глубина деревьев 6 f1-мера 0.5177993527508091 AUC_ROC 0.865494416165057\n",
      "Число деревьев 60 Макс глубина деревьев 9 f1-мера 0.5496894409937888 AUC_ROC 0.8670167388498238\n",
      "Число деревьев 60 Макс глубина деревьев 12 f1-мера 0.5517241379310345 AUC_ROC 0.8670435376843724\n",
      "Число деревьев 60 Макс глубина деревьев 15 f1-мера 0.555052790346908 AUC_ROC 0.8602678990160361\n",
      "Число деревьев 60 Макс глубина деревьев 18 f1-мера 0.5643274853801169 AUC_ROC 0.8566269795777992\n",
      "Число деревьев 65 Макс глубина деревьев 3 f1-мера 0.19583333333333333 AUC_ROC 0.8387700228236741\n",
      "Число деревьев 65 Макс глубина деревьев 6 f1-мера 0.5122349102773246 AUC_ROC 0.8655375920651629\n",
      "Число деревьев 65 Макс глубина деревьев 9 f1-мера 0.546583850931677 AUC_ROC 0.8671611547915571\n",
      "Число деревьев 65 Макс глубина деревьев 12 f1-мера 0.563338301043219 AUC_ROC 0.8681095357697445\n",
      "Число деревьев 65 Макс глубина деревьев 15 f1-мера 0.5663189269746647 AUC_ROC 0.8607331565602803\n",
      "Число деревьев 65 Макс глубина деревьев 18 f1-мера 0.5568513119533528 AUC_ROC 0.8576617123561981\n",
      "Число деревьев 70 Макс глубина деревьев 3 f1-мера 0.1928721174004193 AUC_ROC 0.8392873892128736\n",
      "Число деревьев 70 Макс глубина деревьев 6 f1-мера 0.5098039215686275 AUC_ROC 0.8654408184959601\n",
      "Число деревьев 70 Макс глубина деревьев 9 f1-мера 0.5457364341085271 AUC_ROC 0.8674544531474487\n",
      "Число деревьев 70 Макс глубина деревьев 12 f1-мера 0.564179104477612 AUC_ROC 0.8685695824294931\n",
      "Число деревьев 70 Макс глубина деревьев 15 f1-мера 0.56071964017991 AUC_ROC 0.8607755880483152\n",
      "Число деревьев 70 Макс глубина деревьев 18 f1-мера 0.5542521994134897 AUC_ROC 0.8588252284228439\n",
      "Число деревьев 75 Макс глубина деревьев 3 f1-мера 0.21443298969072166 AUC_ROC 0.8388846622825757\n",
      "Число деревьев 75 Макс глубина деревьев 6 f1-мера 0.5130718954248367 AUC_ROC 0.8652956581421559\n",
      "Число деревьев 75 Макс глубина деревьев 9 f1-мера 0.5474339035769828 AUC_ROC 0.8683685911703795\n",
      "Число деревьев 75 Макс глубина деревьев 12 f1-мера 0.5650224215246636 AUC_ROC 0.8684147447187686\n",
      "Число деревьев 75 Макс глубина деревьев 15 f1-мера 0.5568862275449102 AUC_ROC 0.8605269544166713\n",
      "Число деревьев 75 Макс глубина деревьев 18 f1-мера 0.5537555228276878 AUC_ROC 0.8593522721689637\n",
      "Число деревьев 80 Макс глубина деревьев 3 f1-мера 0.21443298969072166 AUC_ROC 0.8381834261118911\n",
      "Число деревьев 80 Макс глубина деревьев 6 f1-мера 0.5170731707317073 AUC_ROC 0.8651825075073957\n",
      "Число деревьев 80 Макс глубина деревьев 9 f1-мера 0.5496894409937888 AUC_ROC 0.8689224337510476\n",
      "Число деревьев 80 Макс глубина деревьев 12 f1-мера 0.5650224215246636 AUC_ROC 0.8686842218883947\n",
      "Число деревьев 80 Макс глубина деревьев 15 f1-мера 0.5573770491803278 AUC_ROC 0.8605731079650604\n",
      "Число деревьев 80 Макс глубина деревьев 18 f1-мера 0.5545722713864306 AUC_ROC 0.8609162819296947\n",
      "Число деревьев 85 Макс глубина деревьев 3 f1-мера 0.2217659137577002 AUC_ROC 0.8395397449048716\n",
      "Число деревьев 85 Макс глубина деревьев 6 f1-мера 0.5170731707317073 AUC_ROC 0.8659418078196022\n",
      "Число деревьев 85 Макс глубина деревьев 9 f1-мера 0.5514018691588785 AUC_ROC 0.8691398020757185\n",
      "Число деревьев 85 Макс глубина деревьев 12 f1-мера 0.5701492537313433 AUC_ROC 0.869937811815606\n",
      "Число деревьев 85 Макс глубина деревьев 15 f1-мера 0.5560538116591928 AUC_ROC 0.8597832867579515\n",
      "Число деревьев 85 Макс глубина деревьев 18 f1-мера 0.556701030927835 AUC_ROC 0.8614388592033898\n",
      "Число деревьев 90 Макс глубина деревьев 3 f1-мера 0.19958419958419962 AUC_ROC 0.8391794494626089\n",
      "Число деревьев 90 Макс глубина деревьев 6 f1-мера 0.5138211382113822 AUC_ROC 0.8652152616385105\n",
      "Число деревьев 90 Макс глубина деревьев 9 f1-мера 0.546875 AUC_ROC 0.869440544552318\n",
      "Число деревьев 90 Макс глубина деревьев 12 f1-мера 0.5658682634730539 AUC_ROC 0.869896124739642\n",
      "Число деревьев 90 Макс глубина деревьев 15 f1-мера 0.5616641901931649 AUC_ROC 0.8606363829910775\n",
      "Число деревьев 90 Макс глубина деревьев 18 f1-мера 0.5583456425406204 AUC_ROC 0.8614329039068234\n",
      "Число деревьев 95 Макс глубина деревьев 3 f1-мера 0.20331950207468882 AUC_ROC 0.8387000480890198\n",
      "Число деревьев 95 Макс глубина деревьев 6 f1-мера 0.5203252032520326 AUC_ROC 0.865259926362758\n",
      "Число деревьев 95 Макс глубина деревьев 9 f1-мера 0.5496894409937888 AUC_ROC 0.8694167233660528\n",
      "Число деревьев 95 Макс глубина деревьев 12 f1-мера 0.5667166416791605 AUC_ROC 0.8692187097552224\n",
      "Число деревьев 95 Макс глубина деревьев 15 f1-мера 0.5625 AUC_ROC 0.859671624947333\n",
      "Число деревьев 95 Макс глубина деревьев 18 f1-мера 0.5558823529411765 AUC_ROC 0.8618043655301479\n"
     ]
    },
    {
     "data": {
      "text/plain": [
       "[0.3351749539594843,\n",
       " 0.513302034428795,\n",
       " 0.5368098159509201,\n",
       " 0.5452016689847009,\n",
       " 0.5056818181818182,\n",
       " 0.5345997286295794,\n",
       " 0.1924686192468619,\n",
       " 0.5271565495207667,\n",
       " 0.5521472392638037,\n",
       " 0.5656565656565656,\n",
       " 0.5335320417287631,\n",
       " 0.548905109489051,\n",
       " 0.19958419958419962,\n",
       " 0.5169628432956381,\n",
       " 0.5306122448979592,\n",
       " 0.5726744186046512,\n",
       " 0.5581395348837209,\n",
       " 0.5633802816901409,\n",
       " 0.18828451882845187,\n",
       " 0.5186385737439223,\n",
       " 0.5281250000000001,\n",
       " 0.5650887573964497,\n",
       " 0.5406203840472673,\n",
       " 0.5743145743145743,\n",
       " 0.19206680584551145,\n",
       " 0.5145631067961166,\n",
       " 0.5383411580594679,\n",
       " 0.5586924219910847,\n",
       " 0.5586924219910847,\n",
       " 0.5681492109038737,\n",
       " 0.20331950207468882,\n",
       " 0.5170731707317073,\n",
       " 0.5507692307692308,\n",
       " 0.5599999999999999,\n",
       " 0.5595238095238095,\n",
       " 0.5640287769784172,\n",
       " 0.21030927835051547,\n",
       " 0.49917898193760263,\n",
       " 0.5457364341085271,\n",
       " 0.5595238095238095,\n",
       " 0.5611940298507463,\n",
       " 0.5635838150289018,\n",
       " 0.21030927835051547,\n",
       " 0.4916943521594684,\n",
       " 0.5499231950844854,\n",
       " 0.5522388059701492,\n",
       " 0.563338301043219,\n",
       " 0.553935860058309,\n",
       " 0.22810590631364563,\n",
       " 0.5065359477124183,\n",
       " 0.5479876160990713,\n",
       " 0.5543964232488823,\n",
       " 0.564179104477612,\n",
       " 0.5614035087719298,\n",
       " 0.22085889570552147,\n",
       " 0.5040916530278232,\n",
       " 0.5488372093023256,\n",
       " 0.5538922155688624,\n",
       " 0.564179104477612,\n",
       " 0.5597667638483965,\n",
       " 0.19206680584551145,\n",
       " 0.5138211382113822,\n",
       " 0.553323029366306,\n",
       " 0.5525525525525524,\n",
       " 0.564179104477612,\n",
       " 0.5592972181551977,\n",
       " 0.2066115702479339,\n",
       " 0.5177993527508091,\n",
       " 0.5496894409937888,\n",
       " 0.5517241379310345,\n",
       " 0.555052790346908,\n",
       " 0.5643274853801169,\n",
       " 0.19583333333333333,\n",
       " 0.5122349102773246,\n",
       " 0.546583850931677,\n",
       " 0.563338301043219,\n",
       " 0.5663189269746647,\n",
       " 0.5568513119533528,\n",
       " 0.1928721174004193,\n",
       " 0.5098039215686275,\n",
       " 0.5457364341085271,\n",
       " 0.564179104477612,\n",
       " 0.56071964017991,\n",
       " 0.5542521994134897,\n",
       " 0.21443298969072166,\n",
       " 0.5130718954248367,\n",
       " 0.5474339035769828,\n",
       " 0.5650224215246636,\n",
       " 0.5568862275449102,\n",
       " 0.5537555228276878,\n",
       " 0.21443298969072166,\n",
       " 0.5170731707317073,\n",
       " 0.5496894409937888,\n",
       " 0.5650224215246636,\n",
       " 0.5573770491803278,\n",
       " 0.5545722713864306,\n",
       " 0.2217659137577002,\n",
       " 0.5170731707317073,\n",
       " 0.5514018691588785,\n",
       " 0.5701492537313433,\n",
       " 0.5560538116591928,\n",
       " 0.556701030927835,\n",
       " 0.19958419958419962,\n",
       " 0.5138211382113822,\n",
       " 0.546875,\n",
       " 0.5658682634730539,\n",
       " 0.5616641901931649,\n",
       " 0.5583456425406204,\n",
       " 0.20331950207468882,\n",
       " 0.5203252032520326,\n",
       " 0.5496894409937888,\n",
       " 0.5667166416791605,\n",
       " 0.5625,\n",
       " 0.5558823529411765]"
      ]
     },
     "execution_count": 138,
     "metadata": {},
     "output_type": "execute_result"
    }
   ],
   "source": [
    "plain_vanilla = []\n",
    "auc_roc_vanilla = []\n",
    "forest(plain_vanilla, auc_roc_vanilla, 5, 100, 5, 3, 21, 3, train_features, train_target, valid_features, valid_target)"
   ]
  },
  {
   "cell_type": "markdown",
   "metadata": {},
   "source": [
    "#Не доходим до нужной нам отметки, во всем виноват дисбаланс классов. AUC-ROC пока самый высокий."
   ]
  },
  {
   "cell_type": "markdown",
   "metadata": {},
   "source": [
    "# 3. Борьба с дисбалансом"
   ]
  },
  {
   "cell_type": "code",
   "execution_count": 139,
   "metadata": {},
   "outputs": [
    {
     "name": "stdout",
     "output_type": "stream",
     "text": [
      "f1-мера 0.49117174959871596 AUC_ROC 0.7548844598024924\n"
     ]
    }
   ],
   "source": [
    "#Начнем с простого взвешивания классов в логистической регрессии. \n",
    "model = LogisticRegression(max_iter = 1000, solver = 'liblinear', class_weight = 'balanced')\n",
    "model.fit(train_features, train_target)\n",
    "valid_predictions = model.predict(valid_features)\n",
    "probabilities_valid = model.predict_proba(valid_features)\n",
    "probabilities_one_valid = probabilities_valid[:, 1]\n",
    "auc_roc = roc_auc_score(valid_target, probabilities_one_valid)\n",
    "print('f1-мера' , str(f1_score(valid_target, valid_predictions)), 'AUC_ROC', str(auc_roc))"
   ]
  },
  {
   "cell_type": "markdown",
   "metadata": {},
   "source": [
    "#Уже лучше, чем было в этой конкретной моделе. AUC-ROC тоже вырос, но не в такой пропорции."
   ]
  },
  {
   "cell_type": "markdown",
   "metadata": {},
   "source": [
    "# Увеличение выборки "
   ]
  },
  {
   "cell_type": "code",
   "execution_count": 140,
   "metadata": {},
   "outputs": [],
   "source": [
    "def upsample(features, target, repeat):\n",
    "    features_zeros = features[target == 0]\n",
    "    features_ones = features[target == 1]\n",
    "    target_zeros = target[target == 0]\n",
    "    target_ones = target[target == 1]\n",
    "\n",
    "    features_upsampled = pd.concat([features_zeros] + [features_ones] * repeat)\n",
    "    target_upsampled = pd.concat([target_zeros] + [target_ones] * repeat)\n",
    "    \n",
    "    features_upsampled, target_upsampled = shuffle(\n",
    "        features_upsampled, target_upsampled, random_state=12345)\n",
    "    \n",
    "    return features_upsampled, target_upsampled"
   ]
  },
  {
   "cell_type": "code",
   "execution_count": 141,
   "metadata": {},
   "outputs": [],
   "source": [
    "features_upsampled, target_upsampled = upsample(train_features, train_target, 4)\n"
   ]
  },
  {
   "cell_type": "markdown",
   "metadata": {},
   "source": [
    "#Логистическая регрессия"
   ]
  },
  {
   "cell_type": "code",
   "execution_count": 142,
   "metadata": {},
   "outputs": [
    {
     "name": "stdout",
     "output_type": "stream",
     "text": [
      "f1-мера 0.4484848484848485 AUC_ROC 0.7157581613617381\n"
     ]
    }
   ],
   "source": [
    "LogReg(features_upsampled, target_upsampled, valid_features, valid_target)"
   ]
  },
  {
   "cell_type": "markdown",
   "metadata": {},
   "source": [
    "###########"
   ]
  },
  {
   "cell_type": "markdown",
   "metadata": {},
   "source": [
    "#Решающее дерево"
   ]
  },
  {
   "cell_type": "code",
   "execution_count": 143,
   "metadata": {},
   "outputs": [
    {
     "name": "stdout",
     "output_type": "stream",
     "text": [
      "Глубина дерева 3 f1-мера 0.5405887600356825 AUC_ROC 0.8077191065268561\n",
      "Глубина дерева 4 f1-мера 0.5898366606170599 AUC_ROC 0.8402380034272732\n",
      "Глубина дерева 5 f1-мера 0.5874769797421732 AUC_ROC 0.8464925536460559\n",
      "Глубина дерева 6 f1-мера 0.5933852140077821 AUC_ROC 0.8190259814700948\n",
      "Глубина дерева 7 f1-мера 0.5902578796561605 AUC_ROC 0.819440618993525\n",
      "Глубина дерева 8 f1-мера 0.5933400605449042 AUC_ROC 0.8011697691280405\n",
      "Глубина дерева 9 f1-мера 0.5394736842105263 AUC_ROC 0.7685585651308453\n"
     ]
    }
   ],
   "source": [
    "tree(3, 10, features_upsampled, target_upsampled, valid_features, valid_target)"
   ]
  },
  {
   "cell_type": "markdown",
   "metadata": {},
   "source": [
    "#Дерево с максимальной глубиной 6 формально достигло цели 0,59, но думаю есть еще комбинации методов и моделей, которые дадут результат лучше. AUC-ROC особо не изменился."
   ]
  },
  {
   "cell_type": "markdown",
   "metadata": {},
   "source": [
    "#Случайный лес"
   ]
  },
  {
   "cell_type": "code",
   "execution_count": 144,
   "metadata": {},
   "outputs": [
    {
     "name": "stdout",
     "output_type": "stream",
     "text": [
      "Число деревьев 5 Макс глубина деревьев 3 f1-мера 0.5386666666666666 AUC_ROC 0.7973509352048846\n",
      "Число деревьев 5 Макс глубина деревьев 6 f1-мера 0.6121635094715852 AUC_ROC 0.8358876592855728\n",
      "Число деревьев 5 Макс глубина деревьев 9 f1-мера 0.5931321540062434 AUC_ROC 0.8440724700039156\n",
      "Число деревьев 5 Макс глубина деревьев 12 f1-мера 0.5918803418803419 AUC_ROC 0.8186746189726815\n",
      "Число деревьев 5 Макс глубина деревьев 15 f1-мера 0.5846867749419954 AUC_ROC 0.8223393595971837\n",
      "Число деревьев 5 Макс глубина деревьев 18 f1-мера 0.5432977461447213 AUC_ROC 0.7833336559118973\n",
      "Число деревьев 10 Макс глубина деревьев 3 f1-мера 0.5755395683453238 AUC_ROC 0.8374665572877197\n",
      "Число деревьев 10 Макс глубина деревьев 6 f1-мера 0.6394422310756972 AUC_ROC 0.858505131232404\n",
      "Число деревьев 10 Макс глубина деревьев 9 f1-мера 0.6247379454926626 AUC_ROC 0.8551671875069788\n",
      "Число деревьев 10 Макс глубина деревьев 12 f1-мера 0.6041896361631753 AUC_ROC 0.842524837308742\n",
      "Число деревьев 10 Макс глубина деревьев 15 f1-мера 0.5760197775030903 AUC_ROC 0.8333261373499823\n",
      "Число деревьев 10 Макс глубина деревьев 18 f1-мера 0.562091503267974 AUC_ROC 0.8233420826565387\n",
      "Число деревьев 15 Макс глубина деревьев 3 f1-мера 0.5744308231173381 AUC_ROC 0.8379965786821226\n",
      "Число деревьев 15 Макс глубина деревьев 6 f1-мера 0.6326129666011788 AUC_ROC 0.8587492983916232\n",
      "Число деревьев 15 Макс глубина деревьев 9 f1-мера 0.6378600823045268 AUC_ROC 0.8590775841148419\n",
      "Число деревьев 15 Макс глубина деревьев 12 f1-мера 0.6185792349726775 AUC_ROC 0.848973679078001\n",
      "Число деревьев 15 Макс глубина деревьев 15 f1-мера 0.5790754257907543 AUC_ROC 0.8419605729590826\n",
      "Число деревьев 15 Макс глубина деревьев 18 f1-мера 0.5913705583756345 AUC_ROC 0.8356077603469556\n",
      "Число деревьев 20 Макс глубина деревьев 3 f1-мера 0.5829596412556053 AUC_ROC 0.8373176748735616\n",
      "Число деревьев 20 Макс глубина деревьев 6 f1-мера 0.6303270564915758 AUC_ROC 0.8592562430118317\n",
      "Число деревьев 20 Макс глубина деревьев 9 f1-мера 0.631687242798354 AUC_ROC 0.859418524843264\n",
      "Число деревьев 20 Макс глубина деревьев 12 f1-мера 0.6184649610678532 AUC_ROC 0.8518977296920665\n",
      "Число деревьев 20 Макс глубина деревьев 15 f1-мера 0.5777777777777778 AUC_ROC 0.8438662678603066\n",
      "Число деревьев 20 Макс глубина деревьев 18 f1-мера 0.5849802371541503 AUC_ROC 0.8366916243220266\n",
      "Число деревьев 25 Макс глубина деревьев 3 f1-мера 0.5684210526315789 AUC_ROC 0.8353308390566214\n",
      "Число деревьев 25 Макс глубина деревьев 6 f1-мера 0.6284046692607004 AUC_ROC 0.8613949388912131\n",
      "Число деревьев 25 Макс глубина деревьев 9 f1-мера 0.6372950819672132 AUC_ROC 0.8626730944167605\n",
      "Число деревьев 25 Макс глубина деревьев 12 f1-мера 0.6278026905829597 AUC_ROC 0.8544547851552322\n",
      "Число деревьев 25 Макс глубина деревьев 15 f1-мера 0.5854858548585485 AUC_ROC 0.8478190959562047\n",
      "Число деревьев 25 Макс глубина деревьев 18 f1-мера 0.5902061855670102 AUC_ROC 0.8422918363305845\n",
      "Число деревьев 30 Макс глубина деревьев 3 f1-мера 0.5674255691768827 AUC_ROC 0.835339772001471\n",
      "Число деревьев 30 Макс глубина деревьев 6 f1-мера 0.635386119257087 AUC_ROC 0.8625495220130093\n",
      "Число деревьев 30 Макс глубина деревьев 9 f1-мера 0.6363636363636364 AUC_ROC 0.863588721263833\n",
      "Число деревьев 30 Макс глубина деревьев 12 f1-мера 0.630167597765363 AUC_ROC 0.8555594926682856\n",
      "Число деревьев 30 Макс глубина деревьев 15 f1-мера 0.5842696629213483 AUC_ROC 0.8494054380790595\n",
      "Число деревьев 30 Макс глубина деревьев 18 f1-мера 0.5908496732026144 AUC_ROC 0.8458813913359368\n",
      "Число деревьев 35 Макс глубина деревьев 3 f1-мера 0.5587975243147657 AUC_ROC 0.8364571345197277\n",
      "Число деревьев 35 Макс глубина деревьев 6 f1-мера 0.6336248785228378 AUC_ROC 0.8642311488809253\n",
      "Число деревьев 35 Макс глубина деревьев 9 f1-мера 0.6428571428571429 AUC_ROC 0.863450260618666\n",
      "Число деревьев 35 Макс глубина деревьев 12 f1-мера 0.6314606741573033 AUC_ROC 0.8561058911282458\n",
      "Число деревьев 35 Макс глубина деревьев 15 f1-мера 0.594327990135635 AUC_ROC 0.8490079220332574\n",
      "Число деревьев 35 Макс глубина деревьев 18 f1-мера 0.6013071895424836 AUC_ROC 0.8495118890051825\n",
      "Число деревьев 40 Макс глубина деревьев 3 f1-мера 0.5742753623188406 AUC_ROC 0.840732293042278\n",
      "Число деревьев 40 Макс глубина деревьев 6 f1-мера 0.6274509803921569 AUC_ROC 0.8654140196614115\n",
      "Число деревьев 40 Макс глубина деревьев 9 f1-мера 0.6460268317853457 AUC_ROC 0.8627021264875213\n",
      "Число деревьев 40 Макс глубина деревьев 12 f1-мера 0.6319365798414496 AUC_ROC 0.8561118464248122\n",
      "Число деревьев 40 Макс глубина деревьев 15 f1-мера 0.5879396984924623 AUC_ROC 0.8500865751238329\n",
      "Число деревьев 40 Макс глубина деревьев 18 f1-мера 0.5945241199478487 AUC_ROC 0.8509366937086759\n",
      "Число деревьев 45 Макс глубина деревьев 3 f1-мера 0.5838621940163191 AUC_ROC 0.8414149189111932\n",
      "Число деревьев 45 Макс глубина деревьев 6 f1-мера 0.6314760508308894 AUC_ROC 0.868079014874842\n",
      "Число деревьев 45 Макс глубина деревьев 9 f1-мера 0.6384297520661157 AUC_ROC 0.8636222198070185\n",
      "Число деревьев 45 Макс глубина деревьев 12 f1-мера 0.6334841628959276 AUC_ROC 0.8566575004727016\n",
      "Число деревьев 45 Макс глубина деревьев 15 f1-мера 0.59 AUC_ROC 0.8515069133549015\n",
      "Число деревьев 45 Макс глубина деревьев 18 f1-мера 0.5971316818774446 AUC_ROC 0.8515344566015206\n",
      "Число деревьев 50 Макс глубина деревьев 3 f1-мера 0.5809954751131222 AUC_ROC 0.8413635544783085\n",
      "Число деревьев 50 Макс глубина деревьев 6 f1-мера 0.6333333333333333 AUC_ROC 0.8675013511079085\n",
      "Число деревьев 50 Макс глубина деревьев 9 f1-мера 0.6395833333333333 AUC_ROC 0.8634450497341705\n",
      "Число деревьев 50 Макс глубина деревьев 12 f1-мера 0.6285072951739619 AUC_ROC 0.8575761049680573\n",
      "Число деревьев 50 Макс глубина деревьев 15 f1-мера 0.5919395465994962 AUC_ROC 0.8519222952904025\n",
      "Число деревьев 50 Макс глубина деревьев 18 f1-мера 0.5984455958549223 AUC_ROC 0.8524165849054075\n",
      "Число деревьев 55 Макс глубина деревьев 3 f1-мера 0.5783783783783784 AUC_ROC 0.84026331343768\n",
      "Число деревьев 55 Макс глубина деревьев 6 f1-мера 0.6341463414634146 AUC_ROC 0.8666929195990298\n",
      "Число деревьев 55 Макс глубина деревьев 9 f1-мера 0.6404145077720208 AUC_ROC 0.8649844938965654\n",
      "Число деревьев 55 Макс глубина деревьев 12 f1-мера 0.6266968325791855 AUC_ROC 0.8583435938130424\n",
      "Число деревьев 55 Макс глубина деревьев 15 f1-мера 0.5962264150943396 AUC_ROC 0.8532696811385335\n",
      "Число деревьев 55 Макс глубина деревьев 18 f1-мера 0.5992317541613316 AUC_ROC 0.8525007034694068\n",
      "Число деревьев 60 Макс глубина деревьев 3 f1-мера 0.5811659192825113 AUC_ROC 0.8409876263825595\n",
      "Число деревьев 60 Макс глубина деревьев 6 f1-мера 0.6399999999999999 AUC_ROC 0.8672125192244418\n",
      "Число деревьев 60 Макс глубина деревьев 9 f1-мера 0.6438923395445135 AUC_ROC 0.8653894540630753\n",
      "Число деревьев 60 Макс глубина деревьев 12 f1-мера 0.6343115124153499 AUC_ROC 0.858615304218881\n",
      "Число деревьев 60 Макс глубина деревьев 15 f1-мера 0.6055276381909548 AUC_ROC 0.8542247618253579\n",
      "Число деревьев 60 Макс глубина деревьев 18 f1-мера 0.6088082901554405 AUC_ROC 0.8517056713778025\n",
      "Число деревьев 65 Макс глубина деревьев 3 f1-мера 0.5785270629991127 AUC_ROC 0.8406816730214643\n",
      "Число деревьев 65 Макс глубина деревьев 6 f1-мера 0.6393762183235868 AUC_ROC 0.8668432908373295\n",
      "Число деревьев 65 Макс глубина деревьев 9 f1-мера 0.6439628482972136 AUC_ROC 0.8654802723357118\n",
      "Число деревьев 65 Макс глубина деревьев 12 f1-мера 0.6343115124153499 AUC_ROC 0.8597750982251728\n",
      "Число деревьев 65 Макс глубина деревьев 15 f1-мера 0.5979899497487436 AUC_ROC 0.8549267424081134\n",
      "Число деревьев 65 Макс глубина деревьев 18 f1-мера 0.6012903225806451 AUC_ROC 0.8522141048221527\n",
      "Число деревьев 70 Макс глубина деревьев 3 f1-мера 0.5785270629991127 AUC_ROC 0.8403451987654669\n",
      "Число деревьев 70 Макс глубина деревьев 6 f1-мера 0.6375121477162293 AUC_ROC 0.8662492500048387\n",
      "Число деревьев 70 Макс глубина деревьев 9 f1-мера 0.6450261780104712 AUC_ROC 0.8659849837197081\n",
      "Число деревьев 70 Макс глубина деревьев 12 f1-мера 0.6306306306306306 AUC_ROC 0.8597348999733501\n",
      "Число деревьев 70 Макс глубина деревьев 15 f1-мера 0.6022584692597239 AUC_ROC 0.8545783575589835\n",
      "Число деревьев 70 Макс глубина деревьев 18 f1-мера 0.6062176165803109 AUC_ROC 0.8521932612841704\n",
      "Число деревьев 75 Макс глубина деревьев 3 f1-мера 0.5801253357206805 AUC_ROC 0.8409116963513387\n",
      "Число деревьев 75 Макс глубина деревьев 6 f1-мера 0.63671875 AUC_ROC 0.8658398233659038\n",
      "Число деревьев 75 Макс глубина деревьев 9 f1-мера 0.6457023060796646 AUC_ROC 0.8657929254054441\n",
      "Число деревьев 75 Макс глубина деревьев 12 f1-мера 0.6296715741789355 AUC_ROC 0.8609304257590399\n",
      "Число деревьев 75 Макс глубина деревьев 15 f1-мера 0.6015037593984962 AUC_ROC 0.8535823342082656\n",
      "Число деревьев 75 Макс глубина деревьев 18 f1-мера 0.6090322580645161 AUC_ROC 0.8521203089012329\n",
      "Число деревьев 80 Макс глубина деревьев 3 f1-мера 0.5837837837837838 AUC_ROC 0.8412116944158673\n",
      "Число деревьев 80 Макс глубина деревьев 6 f1-мера 0.6380487804878048 AUC_ROC 0.865679030358613\n",
      "Число деревьев 80 Макс глубина деревьев 9 f1-мера 0.6464435146443513 AUC_ROC 0.8664286533138991\n",
      "Число деревьев 80 Макс глубина деревьев 12 f1-мера 0.6348122866894197 AUC_ROC 0.8617775666955995\n",
      "Число деревьев 80 Макс глубина деревьев 15 f1-мера 0.5997490589711417 AUC_ROC 0.8535019377046202\n",
      "Число деревьев 80 Макс глубина деревьев 18 f1-мера 0.6088082901554405 AUC_ROC 0.8507007150822352\n",
      "Число деревьев 85 Макс глубина деревьев 3 f1-мера 0.5876010781671159 AUC_ROC 0.842727317391997\n",
      "Число деревьев 85 Макс глубина деревьев 6 f1-мера 0.635386119257087 AUC_ROC 0.8660110381421856\n",
      "Число деревьев 85 Макс глубина деревьев 9 f1-мера 0.6471204188481675 AUC_ROC 0.8669482529393111\n",
      "Число деревьев 85 Макс глубина деревьев 12 f1-мера 0.6309794988610478 AUC_ROC 0.8617269466747858\n",
      "Число деревьев 85 Макс глубина деревьев 15 f1-мера 0.6052963430012609 AUC_ROC 0.853996971731696\n",
      "Число деревьев 85 Макс глубина деревьев 18 f1-мера 0.6077922077922079 AUC_ROC 0.8512798676733103\n",
      "Число деревьев 90 Макс глубина деревьев 3 f1-мера 0.5883408071748879 AUC_ROC 0.8414878712941307\n",
      "Число деревьев 90 Макс глубина деревьев 6 f1-мера 0.6320939334637964 AUC_ROC 0.8660035940214779\n",
      "Число деревьев 90 Макс глубина деревьев 9 f1-мера 0.6491596638655461 AUC_ROC 0.8670137612015407\n",
      "Число деревьев 90 Макс глубина деревьев 12 f1-мера 0.6325369738339022 AUC_ROC 0.8612788106081698\n",
      "Число деревьев 90 Макс глубина деревьев 15 f1-мера 0.6047678795483061 AUC_ROC 0.8550711583498468\n",
      "Число деревьев 90 Макс глубина деревьев 18 f1-мера 0.6051948051948052 AUC_ROC 0.8514175839064065\n",
      "Число деревьев 95 Макс глубина деревьев 3 f1-мера 0.5844504021447722 AUC_ROC 0.8412496594314776\n",
      "Число деревьев 95 Макс глубина деревьев 6 f1-мера 0.6307541625857003 AUC_ROC 0.8660169934387519\n",
      "Число деревьев 95 Макс глубина деревьев 9 f1-мера 0.6388308977035491 AUC_ROC 0.8672996154367243\n",
      "Число деревьев 95 Макс глубина деревьев 12 f1-мера 0.6324200913242009 AUC_ROC 0.8609974228454109\n",
      "Число деревьев 95 Макс глубина деревьев 15 f1-мера 0.6045340050377833 AUC_ROC 0.8555766141459138\n",
      "Число деревьев 95 Макс глубина деревьев 18 f1-мера 0.6070038910505837 AUC_ROC 0.8517309813882094\n"
     ]
    },
    {
     "data": {
      "text/plain": [
       "[0.5386666666666666,\n",
       " 0.6121635094715852,\n",
       " 0.5931321540062434,\n",
       " 0.5918803418803419,\n",
       " 0.5846867749419954,\n",
       " 0.5432977461447213,\n",
       " 0.5755395683453238,\n",
       " 0.6394422310756972,\n",
       " 0.6247379454926626,\n",
       " 0.6041896361631753,\n",
       " 0.5760197775030903,\n",
       " 0.562091503267974,\n",
       " 0.5744308231173381,\n",
       " 0.6326129666011788,\n",
       " 0.6378600823045268,\n",
       " 0.6185792349726775,\n",
       " 0.5790754257907543,\n",
       " 0.5913705583756345,\n",
       " 0.5829596412556053,\n",
       " 0.6303270564915758,\n",
       " 0.631687242798354,\n",
       " 0.6184649610678532,\n",
       " 0.5777777777777778,\n",
       " 0.5849802371541503,\n",
       " 0.5684210526315789,\n",
       " 0.6284046692607004,\n",
       " 0.6372950819672132,\n",
       " 0.6278026905829597,\n",
       " 0.5854858548585485,\n",
       " 0.5902061855670102,\n",
       " 0.5674255691768827,\n",
       " 0.635386119257087,\n",
       " 0.6363636363636364,\n",
       " 0.630167597765363,\n",
       " 0.5842696629213483,\n",
       " 0.5908496732026144,\n",
       " 0.5587975243147657,\n",
       " 0.6336248785228378,\n",
       " 0.6428571428571429,\n",
       " 0.6314606741573033,\n",
       " 0.594327990135635,\n",
       " 0.6013071895424836,\n",
       " 0.5742753623188406,\n",
       " 0.6274509803921569,\n",
       " 0.6460268317853457,\n",
       " 0.6319365798414496,\n",
       " 0.5879396984924623,\n",
       " 0.5945241199478487,\n",
       " 0.5838621940163191,\n",
       " 0.6314760508308894,\n",
       " 0.6384297520661157,\n",
       " 0.6334841628959276,\n",
       " 0.59,\n",
       " 0.5971316818774446,\n",
       " 0.5809954751131222,\n",
       " 0.6333333333333333,\n",
       " 0.6395833333333333,\n",
       " 0.6285072951739619,\n",
       " 0.5919395465994962,\n",
       " 0.5984455958549223,\n",
       " 0.5783783783783784,\n",
       " 0.6341463414634146,\n",
       " 0.6404145077720208,\n",
       " 0.6266968325791855,\n",
       " 0.5962264150943396,\n",
       " 0.5992317541613316,\n",
       " 0.5811659192825113,\n",
       " 0.6399999999999999,\n",
       " 0.6438923395445135,\n",
       " 0.6343115124153499,\n",
       " 0.6055276381909548,\n",
       " 0.6088082901554405,\n",
       " 0.5785270629991127,\n",
       " 0.6393762183235868,\n",
       " 0.6439628482972136,\n",
       " 0.6343115124153499,\n",
       " 0.5979899497487436,\n",
       " 0.6012903225806451,\n",
       " 0.5785270629991127,\n",
       " 0.6375121477162293,\n",
       " 0.6450261780104712,\n",
       " 0.6306306306306306,\n",
       " 0.6022584692597239,\n",
       " 0.6062176165803109,\n",
       " 0.5801253357206805,\n",
       " 0.63671875,\n",
       " 0.6457023060796646,\n",
       " 0.6296715741789355,\n",
       " 0.6015037593984962,\n",
       " 0.6090322580645161,\n",
       " 0.5837837837837838,\n",
       " 0.6380487804878048,\n",
       " 0.6464435146443513,\n",
       " 0.6348122866894197,\n",
       " 0.5997490589711417,\n",
       " 0.6088082901554405,\n",
       " 0.5876010781671159,\n",
       " 0.635386119257087,\n",
       " 0.6471204188481675,\n",
       " 0.6309794988610478,\n",
       " 0.6052963430012609,\n",
       " 0.6077922077922079,\n",
       " 0.5883408071748879,\n",
       " 0.6320939334637964,\n",
       " 0.6491596638655461,\n",
       " 0.6325369738339022,\n",
       " 0.6047678795483061,\n",
       " 0.6051948051948052,\n",
       " 0.5844504021447722,\n",
       " 0.6307541625857003,\n",
       " 0.6388308977035491,\n",
       " 0.6324200913242009,\n",
       " 0.6045340050377833,\n",
       " 0.6070038910505837]"
      ]
     },
     "execution_count": 144,
     "metadata": {},
     "output_type": "execute_result"
    }
   ],
   "source": [
    "upsampling = []\n",
    "auc_roc_upsampling = []\n",
    "forest(upsampling, auc_roc_upsampling, 5, 100, 5, 3, 21, 3, features_upsampled, target_upsampled, valid_features, valid_target)"
   ]
  },
  {
   "cell_type": "markdown",
   "metadata": {},
   "source": [
    "#Для случайного леса метрика f1 выросла, а вот AUC-ROC нет."
   ]
  },
  {
   "cell_type": "markdown",
   "metadata": {},
   "source": [
    "# Уменьшение выборки"
   ]
  },
  {
   "cell_type": "code",
   "execution_count": 145,
   "metadata": {},
   "outputs": [],
   "source": [
    "def downsample(features, target, fraction):\n",
    "    features_zeros = features[target == 0]\n",
    "    features_ones = features[target == 1]\n",
    "    target_zeros = target[target == 0]\n",
    "    target_ones = target[target == 1]\n",
    "\n",
    "    features_downsampled = pd.concat(\n",
    "        [features_zeros.sample(frac=fraction, random_state=12345)] + [features_ones])\n",
    "    target_downsampled = pd.concat(\n",
    "        [target_zeros.sample(frac=fraction, random_state=12345)] + [target_ones])\n",
    "    \n",
    "    features_downsampled, target_downsampled = shuffle(\n",
    "        features_downsampled, target_downsampled, random_state=12345)\n",
    "    \n",
    "    return features_downsampled, target_downsampled\n",
    "\n"
   ]
  },
  {
   "cell_type": "code",
   "execution_count": 146,
   "metadata": {},
   "outputs": [],
   "source": [
    "features_downsampled, target_downsampled = downsample(train_features, train_target, 0.25)"
   ]
  },
  {
   "cell_type": "markdown",
   "metadata": {},
   "source": [
    "#Логистическая регрессия"
   ]
  },
  {
   "cell_type": "code",
   "execution_count": 147,
   "metadata": {},
   "outputs": [
    {
     "name": "stdout",
     "output_type": "stream",
     "text": [
      "f1-мера 0.44864048338368573 AUC_ROC 0.715968085565701\n"
     ]
    }
   ],
   "source": [
    "LogReg(features_downsampled, target_downsampled, valid_features, valid_target)"
   ]
  },
  {
   "cell_type": "markdown",
   "metadata": {},
   "source": [
    "#Пока логистическая регрессия не в лидерах по этой метрике."
   ]
  },
  {
   "cell_type": "markdown",
   "metadata": {},
   "source": [
    "#Решающее дерево"
   ]
  },
  {
   "cell_type": "code",
   "execution_count": 148,
   "metadata": {},
   "outputs": [
    {
     "name": "stdout",
     "output_type": "stream",
     "text": [
      "Глубина дерева 3 f1-мера 0.5549845837615622 AUC_ROC 0.8024047487534819\n",
      "Глубина дерева 4 f1-мера 0.5486238532110091 AUC_ROC 0.8214572312932968\n",
      "Глубина дерева 5 f1-мера 0.5646867371847029 AUC_ROC 0.8245673849250601\n",
      "Глубина дерева 6 f1-мера 0.5795555555555556 AUC_ROC 0.8330052957474716\n",
      "Глубина дерева 7 f1-мера 0.5809352517985611 AUC_ROC 0.8191815635928901\n",
      "Глубина дерева 8 f1-мера 0.5682656826568264 AUC_ROC 0.7865606822387747\n",
      "Глубина дерева 9 f1-мера 0.5459363957597174 AUC_ROC 0.758989147960832\n"
     ]
    }
   ],
   "source": [
    "tree(3, 10, features_downsampled, target_downsampled, valid_features, valid_target)"
   ]
  },
  {
   "cell_type": "markdown",
   "metadata": {},
   "source": [
    "#На решеющем дереве увеличение выборки показало лучшие f1-метрики."
   ]
  },
  {
   "cell_type": "markdown",
   "metadata": {},
   "source": [
    "#Случайный лес"
   ]
  },
  {
   "cell_type": "code",
   "execution_count": 149,
   "metadata": {},
   "outputs": [
    {
     "name": "stdout",
     "output_type": "stream",
     "text": [
      "Число деревьев 5 Макс глубина деревьев 3 f1-мера 0.5395095367847411 AUC_ROC 0.8167570134783249\n",
      "Число деревьев 5 Макс глубина деревьев 6 f1-мера 0.5818181818181818 AUC_ROC 0.8374777234687816\n",
      "Число деревьев 5 Макс глубина деревьев 9 f1-мера 0.5610200364298725 AUC_ROC 0.8302941469856523\n",
      "Число деревьев 5 Макс глубина деревьев 12 f1-мера 0.5594405594405595 AUC_ROC 0.8179912486916958\n",
      "Число деревьев 5 Макс глубина деревьев 15 f1-мера 0.5376712328767124 AUC_ROC 0.7967874152672961\n",
      "Число деревьев 5 Макс глубина деревьев 18 f1-мера 0.5251299826689775 AUC_ROC 0.7884232012398927\n",
      "Число деревьев 10 Макс глубина деревьев 3 f1-мера 0.5487179487179488 AUC_ROC 0.8309090313561254\n",
      "Число деревьев 10 Макс глубина деревьев 6 f1-мера 0.5956644674835062 AUC_ROC 0.8493979939583517\n",
      "Число деревьев 10 Макс глубина деревьев 9 f1-мера 0.5943992773261065 AUC_ROC 0.8470233194525296\n",
      "Число деревьев 10 Макс глубина деревьев 12 f1-мера 0.5843101893597836 AUC_ROC 0.8421972959975941\n",
      "Число деревьев 10 Макс глубина деревьев 15 f1-мера 0.5514705882352942 AUC_ROC 0.8266748154974684\n",
      "Число деревьев 10 Макс глубина деревьев 18 f1-мера 0.5600756859035004 AUC_ROC 0.8202229960799261\n",
      "Число деревьев 15 Макс глубина деревьев 3 f1-мера 0.5507246376811594 AUC_ROC 0.8332122423031514\n",
      "Число деревьев 15 Макс глубина деревьев 6 f1-мера 0.6094890510948905 AUC_ROC 0.8558475801396814\n",
      "Число деревьев 15 Макс глубина деревьев 9 f1-мера 0.6010928961748633 AUC_ROC 0.8526845732508922\n",
      "Число деревьев 15 Макс глубина деревьев 12 f1-мера 0.596830985915493 AUC_ROC 0.8459275448843258\n",
      "Число деревьев 15 Макс глубина деревьев 15 f1-мера 0.5693950177935944 AUC_ROC 0.832168576579903\n",
      "Число деревьев 15 Макс глубина деревьев 18 f1-мера 0.5734513274336284 AUC_ROC 0.8349928759764826\n",
      "Число деревьев 20 Макс глубина деревьев 3 f1-мера 0.5672413793103448 AUC_ROC 0.8348358050295457\n",
      "Число деревьев 20 Макс глубина деревьев 6 f1-мера 0.6158088235294118 AUC_ROC 0.8572009212843787\n",
      "Число деревьев 20 Макс глубина деревьев 9 f1-мера 0.6018181818181817 AUC_ROC 0.8568584917318152\n",
      "Число деревьев 20 Макс глубина деревьев 12 f1-мера 0.5948352626892253 AUC_ROC 0.8492290124182822\n",
      "Число деревьев 20 Макс глубина деревьев 15 f1-мера 0.588021778584392 AUC_ROC 0.8402417254876271\n",
      "Число деревьев 20 Макс глубина деревьев 18 f1-мера 0.5844155844155844 AUC_ROC 0.8445384719602306\n",
      "Число деревьев 25 Макс глубина деревьев 3 f1-мера 0.5618374558303887 AUC_ROC 0.8330149731043919\n",
      "Число деревьев 25 Макс глубина деревьев 6 f1-мера 0.6150978564771667 AUC_ROC 0.8549006879856358\n",
      "Число деревьев 25 Макс глубина деревьев 9 f1-мера 0.6012601260126011 AUC_ROC 0.856940377059602\n",
      "Число деревьев 25 Макс глубина деревьев 12 f1-мера 0.5960502692998203 AUC_ROC 0.8507483574547658\n",
      "Число деревьев 25 Макс глубина деревьев 15 f1-мера 0.590990990990991 AUC_ROC 0.8446054690466017\n",
      "Число деревьев 25 Макс глубина деревьев 18 f1-мера 0.5964285714285714 AUC_ROC 0.8457533524597607\n",
      "Число деревьев 30 Макс глубина деревьев 3 f1-мера 0.5637931034482759 AUC_ROC 0.8348655815123773\n",
      "Число деревьев 30 Макс глубина деревьев 6 f1-мера 0.607242339832869 AUC_ROC 0.8541629756234823\n",
      "Число деревьев 30 Макс глубина деревьев 9 f1-мера 0.6100456621004566 AUC_ROC 0.8578932245102141\n",
      "Число деревьев 30 Макс глубина деревьев 12 f1-мера 0.5998209489704566 AUC_ROC 0.8524106296088412\n",
      "Число деревьев 30 Макс глубина деревьев 15 f1-мера 0.6018348623853211 AUC_ROC 0.847807185363072\n",
      "Число деревьев 30 Макс глубина деревьев 18 f1-мера 0.5983680870353582 AUC_ROC 0.8495364546035189\n",
      "Число деревьев 35 Макс глубина деревьев 3 f1-мера 0.5729827742520399 AUC_ROC 0.8337087651543688\n",
      "Число деревьев 35 Макс глубина деревьев 6 f1-мера 0.6116774791473586 AUC_ROC 0.8555684256131351\n",
      "Число деревьев 35 Макс глубина деревьев 9 f1-мера 0.6062271062271062 AUC_ROC 0.8587686531054637\n",
      "Число деревьев 35 Макс глубина деревьев 12 f1-мера 0.5994599459945994 AUC_ROC 0.8543103692134989\n",
      "Число деревьев 35 Макс глубина деревьев 15 f1-мера 0.5970695970695971 AUC_ROC 0.8486997354359501\n",
      "Число деревьев 35 Макс глубина деревьев 18 f1-мера 0.5971479500891266 AUC_ROC 0.8508160989532078\n",
      "Число деревьев 40 Макс глубина деревьев 3 f1-мера 0.5818181818181818 AUC_ROC 0.8396536399517025\n",
      "Число деревьев 40 Макс глубина деревьев 6 f1-мера 0.6156716417910447 AUC_ROC 0.8573118386829266\n",
      "Число деревьев 40 Макс глубина деревьев 9 f1-мера 0.6063348416289592 AUC_ROC 0.8578872692136478\n",
      "Число деревьев 40 Макс глубина деревьев 12 f1-мера 0.6014492753623187 AUC_ROC 0.8541049114819605\n",
      "Число деревьев 40 Макс глубина деревьев 15 f1-мера 0.5921173235563703 AUC_ROC 0.8482009793485203\n",
      "Число деревьев 40 Макс глубина деревьев 18 f1-мера 0.6023657870791629 AUC_ROC 0.8533292341041969\n",
      "Число деревьев 45 Макс глубина деревьев 3 f1-мера 0.5865470852017938 AUC_ROC 0.8419672726677196\n",
      "Число деревьев 45 Макс глубина деревьев 6 f1-мера 0.6166822867853796 AUC_ROC 0.8580703945830622\n",
      "Число деревьев 45 Макс глубина деревьев 9 f1-мера 0.604566210045662 AUC_ROC 0.859514554000396\n",
      "Число деревьев 45 Макс глубина деревьев 12 f1-мера 0.5952813067150635 AUC_ROC 0.853744616039698\n",
      "Число деревьев 45 Макс глубина деревьев 15 f1-мера 0.5963302752293578 AUC_ROC 0.8503776402435121\n",
      "Число деревьев 45 Макс глубина деревьев 18 f1-мера 0.5962399283795882 AUC_ROC 0.8534103750199129\n",
      "Число деревьев 50 Макс глубина деревьев 3 f1-мера 0.5831842576028623 AUC_ROC 0.8402856457998038\n",
      "Число деревьев 50 Макс глубина деревьев 6 f1-мера 0.6143790849673203 AUC_ROC 0.8582535199524767\n",
      "Число деревьев 50 Макс глубина деревьев 9 f1-мера 0.601640838650866 AUC_ROC 0.8600043771429763\n",
      "Число деревьев 50 Макс глубина деревьев 12 f1-мера 0.6049495875343722 AUC_ROC 0.8541547870907036\n",
      "Число деревьев 50 Макс глубина деревьев 15 f1-мера 0.6011029411764706 AUC_ROC 0.851728748151997\n",
      "Число деревьев 50 Макс глубина деревьев 18 f1-мера 0.5963636363636363 AUC_ROC 0.8539798502540679\n",
      "Число деревьев 55 Макс глубина деревьев 3 f1-мера 0.5829596412556053 AUC_ROC 0.8399394941868862\n",
      "Число деревьев 55 Макс глубина деревьев 6 f1-мера 0.6122448979591837 AUC_ROC 0.8583607152906706\n",
      "Число деревьев 55 Макс глубина деревьев 9 f1-мера 0.6023657870791629 AUC_ROC 0.8596217493385898\n",
      "Число деревьев 55 Макс глубина деревьев 12 f1-мера 0.6042240587695132 AUC_ROC 0.8534937491718415\n",
      "Число деревьев 55 Макс глубина деревьев 15 f1-мера 0.5961713764813126 AUC_ROC 0.8516267636982987\n",
      "Число деревьев 55 Макс глубина деревьев 18 f1-мера 0.5974955277280859 AUC_ROC 0.8533657102956655\n",
      "Число деревьев 60 Макс глубина деревьев 3 f1-мера 0.5842293906810035 AUC_ROC 0.8414871268820598\n",
      "Число деревьев 60 Макс глубина деревьев 6 f1-мера 0.6122448979591837 AUC_ROC 0.859588995207475\n",
      "Число деревьев 60 Макс глубина деревьев 9 f1-мера 0.6032608695652174 AUC_ROC 0.8601711254468333\n",
      "Число деревьев 60 Макс глубина деревьев 12 f1-мера 0.605672461116194 AUC_ROC 0.8543408901084014\n",
      "Число деревьев 60 Макс глубина деревьев 15 f1-мера 0.5953917050691244 AUC_ROC 0.8522401592446303\n",
      "Число деревьев 60 Макс глубина деревьев 18 f1-мера 0.5981818181818181 AUC_ROC 0.8541488317941373\n",
      "Число деревьев 65 Макс глубина деревьев 3 f1-мера 0.5817524841915085 AUC_ROC 0.841041968463727\n",
      "Число деревьев 65 Макс глубина деревьев 6 f1-мера 0.6119402985074627 AUC_ROC 0.8583815588286527\n",
      "Число деревьев 65 Макс глубина деревьев 9 f1-мера 0.6117216117216117 AUC_ROC 0.8598048747080044\n",
      "Число деревьев 65 Макс глубина деревьев 12 f1-мера 0.6060054595086443 AUC_ROC 0.8538920096297145\n",
      "Число деревьев 65 Макс глубина деревьев 15 f1-мера 0.5998176845943483 AUC_ROC 0.852753059161405\n",
      "Число деревьев 65 Макс глубина деревьев 18 f1-мера 0.5958965209634255 AUC_ROC 0.8545441146037271\n",
      "Число деревьев 70 Макс глубина деревьев 3 f1-мера 0.5827338129496403 AUC_ROC 0.8406422191817124\n",
      "Число деревьев 70 Макс глубина деревьев 6 f1-мера 0.607970342910102 AUC_ROC 0.8578440933135418\n",
      "Число деревьев 70 Макс глубина деревьев 9 f1-мера 0.6083788706739526 AUC_ROC 0.8601562372054176\n",
      "Число деревьев 70 Макс глубина деревьев 12 f1-мера 0.6027149321266968 AUC_ROC 0.8529592613050139\n",
      "Число деревьев 70 Макс глубина деревьев 15 f1-мера 0.6027149321266968 AUC_ROC 0.8531915178711006\n",
      "Число деревьев 70 Макс глубина деревьев 18 f1-мера 0.6021699819168174 AUC_ROC 0.855565447964852\n",
      "Число деревьев 75 Макс глубина деревьев 3 f1-мера 0.5817524841915085 AUC_ROC 0.8406020209298899\n",
      "Число деревьев 75 Макс глубина деревьев 6 f1-мера 0.6103896103896104 AUC_ROC 0.8577517862167637\n",
      "Число деревьев 75 Макс глубина деревьев 9 f1-мера 0.610855565777369 AUC_ROC 0.8603200078609915\n",
      "Число деревьев 75 Макс глубина деревьев 12 f1-мера 0.603290676416819 AUC_ROC 0.8532019396400917\n",
      "Число деревьев 75 Макс глубина деревьев 15 f1-мера 0.6049046321525885 AUC_ROC 0.8539121087556258\n",
      "Число деревьев 75 Макс глубина деревьев 18 f1-мера 0.599111111111111 AUC_ROC 0.8553719008264463\n",
      "Число деревьев 80 Макс глубина деревьев 3 f1-мера 0.5823475887170154 AUC_ROC 0.8410896108362577\n",
      "Число деревьев 80 Макс глубина деревьев 6 f1-мера 0.6122448979591837 AUC_ROC 0.859112571482169\n",
      "Число деревьев 80 Макс глубина деревьев 9 f1-мера 0.6055045871559632 AUC_ROC 0.8604554908578752\n",
      "Число деревьев 80 Макс глубина деревьев 12 f1-мера 0.6027397260273972 AUC_ROC 0.8537297277982823\n",
      "Число деревьев 80 Макс глубина деревьев 15 f1-мера 0.5958219800181653 AUC_ROC 0.8537431272155563\n",
      "Число деревьев 80 Макс глубина деревьев 18 f1-мера 0.5971223021582734 AUC_ROC 0.8552527948951198\n",
      "Число деревьев 85 Макс глубина деревьев 3 f1-мера 0.5833333333333334 AUC_ROC 0.8427690044679613\n",
      "Число деревьев 85 Макс глубина деревьев 6 f1-мера 0.6109563602599815 AUC_ROC 0.860357228464531\n",
      "Число деревьев 85 Макс глубина деревьев 9 f1-мера 0.609015639374425 AUC_ROC 0.8605894850306176\n",
      "Число деревьев 85 Макс глубина деревьев 12 f1-мера 0.603290676416819 AUC_ROC 0.8539411408263867\n",
      "Число деревьев 85 Макс глубина деревьев 15 f1-мера 0.5943992773261065 AUC_ROC 0.8546602428867704\n",
      "Число деревьев 85 Макс глубина деревьев 18 f1-мера 0.6041108132260947 AUC_ROC 0.8556197900460196\n",
      "Число деревьев 90 Макс глубина деревьев 3 f1-мера 0.5807622504537204 AUC_ROC 0.8415980442806075\n",
      "Число деревьев 90 Макс глубина деревьев 6 f1-мера 0.6109563602599815 AUC_ROC 0.8604659126268663\n",
      "Число деревьев 90 Макс глубина деревьев 9 f1-мера 0.6094182825484765 AUC_ROC 0.8611552382044185\n",
      "Число деревьев 90 Макс глубина деревьев 12 f1-мера 0.608058608058608 AUC_ROC 0.85482922442684\n",
      "Число деревьев 90 Макс глубина деревьев 15 f1-мера 0.5981818181818181 AUC_ROC 0.8555929912114711\n",
      "Число деревьев 90 Макс глубина деревьев 18 f1-мера 0.605570530098832 AUC_ROC 0.855596713271825\n",
      "Число деревьев 95 Макс глубина деревьев 3 f1-мера 0.5822784810126582 AUC_ROC 0.8418630549778091\n",
      "Число деревьев 95 Макс глубина деревьев 6 f1-мера 0.6120930232558139 AUC_ROC 0.860815786300138\n",
      "Число деревьев 95 Макс глубина деревьев 9 f1-мера 0.6125461254612546 AUC_ROC 0.8613219865082755\n",
      "Число деревьев 95 Макс глубина деревьев 12 f1-мера 0.6029143897996357 AUC_ROC 0.8553160699211371\n",
      "Число деревьев 95 Макс глубина деревьев 15 f1-мера 0.6065573770491803 AUC_ROC 0.8558468357276108\n",
      "Число деревьев 95 Макс глубина деревьев 18 f1-мера 0.6001780943900267 AUC_ROC 0.8557277297962842\n"
     ]
    },
    {
     "data": {
      "text/plain": [
       "[0.5395095367847411,\n",
       " 0.5818181818181818,\n",
       " 0.5610200364298725,\n",
       " 0.5594405594405595,\n",
       " 0.5376712328767124,\n",
       " 0.5251299826689775,\n",
       " 0.5487179487179488,\n",
       " 0.5956644674835062,\n",
       " 0.5943992773261065,\n",
       " 0.5843101893597836,\n",
       " 0.5514705882352942,\n",
       " 0.5600756859035004,\n",
       " 0.5507246376811594,\n",
       " 0.6094890510948905,\n",
       " 0.6010928961748633,\n",
       " 0.596830985915493,\n",
       " 0.5693950177935944,\n",
       " 0.5734513274336284,\n",
       " 0.5672413793103448,\n",
       " 0.6158088235294118,\n",
       " 0.6018181818181817,\n",
       " 0.5948352626892253,\n",
       " 0.588021778584392,\n",
       " 0.5844155844155844,\n",
       " 0.5618374558303887,\n",
       " 0.6150978564771667,\n",
       " 0.6012601260126011,\n",
       " 0.5960502692998203,\n",
       " 0.590990990990991,\n",
       " 0.5964285714285714,\n",
       " 0.5637931034482759,\n",
       " 0.607242339832869,\n",
       " 0.6100456621004566,\n",
       " 0.5998209489704566,\n",
       " 0.6018348623853211,\n",
       " 0.5983680870353582,\n",
       " 0.5729827742520399,\n",
       " 0.6116774791473586,\n",
       " 0.6062271062271062,\n",
       " 0.5994599459945994,\n",
       " 0.5970695970695971,\n",
       " 0.5971479500891266,\n",
       " 0.5818181818181818,\n",
       " 0.6156716417910447,\n",
       " 0.6063348416289592,\n",
       " 0.6014492753623187,\n",
       " 0.5921173235563703,\n",
       " 0.6023657870791629,\n",
       " 0.5865470852017938,\n",
       " 0.6166822867853796,\n",
       " 0.604566210045662,\n",
       " 0.5952813067150635,\n",
       " 0.5963302752293578,\n",
       " 0.5962399283795882,\n",
       " 0.5831842576028623,\n",
       " 0.6143790849673203,\n",
       " 0.601640838650866,\n",
       " 0.6049495875343722,\n",
       " 0.6011029411764706,\n",
       " 0.5963636363636363,\n",
       " 0.5829596412556053,\n",
       " 0.6122448979591837,\n",
       " 0.6023657870791629,\n",
       " 0.6042240587695132,\n",
       " 0.5961713764813126,\n",
       " 0.5974955277280859,\n",
       " 0.5842293906810035,\n",
       " 0.6122448979591837,\n",
       " 0.6032608695652174,\n",
       " 0.605672461116194,\n",
       " 0.5953917050691244,\n",
       " 0.5981818181818181,\n",
       " 0.5817524841915085,\n",
       " 0.6119402985074627,\n",
       " 0.6117216117216117,\n",
       " 0.6060054595086443,\n",
       " 0.5998176845943483,\n",
       " 0.5958965209634255,\n",
       " 0.5827338129496403,\n",
       " 0.607970342910102,\n",
       " 0.6083788706739526,\n",
       " 0.6027149321266968,\n",
       " 0.6027149321266968,\n",
       " 0.6021699819168174,\n",
       " 0.5817524841915085,\n",
       " 0.6103896103896104,\n",
       " 0.610855565777369,\n",
       " 0.603290676416819,\n",
       " 0.6049046321525885,\n",
       " 0.599111111111111,\n",
       " 0.5823475887170154,\n",
       " 0.6122448979591837,\n",
       " 0.6055045871559632,\n",
       " 0.6027397260273972,\n",
       " 0.5958219800181653,\n",
       " 0.5971223021582734,\n",
       " 0.5833333333333334,\n",
       " 0.6109563602599815,\n",
       " 0.609015639374425,\n",
       " 0.603290676416819,\n",
       " 0.5943992773261065,\n",
       " 0.6041108132260947,\n",
       " 0.5807622504537204,\n",
       " 0.6109563602599815,\n",
       " 0.6094182825484765,\n",
       " 0.608058608058608,\n",
       " 0.5981818181818181,\n",
       " 0.605570530098832,\n",
       " 0.5822784810126582,\n",
       " 0.6120930232558139,\n",
       " 0.6125461254612546,\n",
       " 0.6029143897996357,\n",
       " 0.6065573770491803,\n",
       " 0.6001780943900267]"
      ]
     },
     "execution_count": 149,
     "metadata": {},
     "output_type": "execute_result"
    }
   ],
   "source": [
    "downsampling = []\n",
    "auc_roc_downsampling = []\n",
    "forest(downsampling, auc_roc_downsampling, 5, 100, 5, 3, 21, 3, features_downsampled, target_downsampled, valid_features, valid_target)"
   ]
  },
  {
   "cell_type": "code",
   "execution_count": 150,
   "metadata": {},
   "outputs": [],
   "source": [
    "d = {'plain_vanilla': plain_vanilla, 'upsampling': upsampling, 'downsampling' : downsampling}\n",
    "data_f1 = pd.DataFrame(data=d)"
   ]
  },
  {
   "cell_type": "code",
   "execution_count": 151,
   "metadata": {},
   "outputs": [
    {
     "data": {
      "image/png": "[encoded data removed]",
      "text/plain": [
       "<Figure size 1080x576 with 1 Axes>"
      ]
     },
     "metadata": {
      "needs_background": "light"
     },
     "output_type": "display_data"
    }
   ],
   "source": [
    "plt.rcParams.update({'font.size': 13})\n",
    "plt.figure(figsize = (15,8))\n",
    "xnew = np.linspace(data_f1.index.min(), data_f1.index.max(), 30)\n",
    "spl = make_interp_spline(data_f1.index, data_f1['plain_vanilla'], k = 3)\n",
    "y_smooth_vanilla = spl(xnew)\n",
    "spl = make_interp_spline(data_f1.index, data_f1['upsampling'], k = 3)\n",
    "y_smooth_up = spl(xnew)\n",
    "spl = make_interp_spline(data_f1.index, data_f1['downsampling'], k = 3)\n",
    "y_smooth_down = spl(xnew)\n",
    "plt.plot(xnew, y_smooth_vanilla, color=\"#635045\", marker='o')\n",
    "plt.plot(xnew, y_smooth_up, color=\"#e7b300\", marker='^')\n",
    "plt.plot(xnew, y_smooth_down, color=\"#6e7f29\", marker='*')\n",
    "plt.ylim(0.1, 0.7)\n",
    "plt.xlim(0.0, 120)\n",
    "plt.legend(labels = ['Vanilla', 'Up', 'Down'])\n",
    "plt.title('Результаты сглаженной меры f1 при различных способах работы с дисбалансом')\n",
    "plt.xlabel('Итеррация')\n",
    "plt.ylabel('F1')\n",
    "plt.show()\n"
   ]
  },
  {
   "cell_type": "code",
   "execution_count": 152,
   "metadata": {},
   "outputs": [
    {
     "data": {
      "image/png": "[encoded data removed]",
      "text/plain": [
       "<Figure size 1080x576 with 1 Axes>"
      ]
     },
     "metadata": {
      "needs_background": "light"
     },
     "output_type": "display_data"
    }
   ],
   "source": [
    "plt.rcParams.update({'font.size': 13})\n",
    "plt.figure(figsize = (15,8))\n",
    "plt.bar(x = ['Дисбаланс', 'Upsampling', 'Downsampling'], \n",
    "        height = [sum(auc_roc_vanilla)/len(auc_roc_vanilla), \n",
    "                  sum(auc_roc_upsampling)/len(auc_roc_upsampling), sum(auc_roc_downsampling)/len(auc_roc_downsampling)],\n",
    "       color = ['#a63e14', '#558a86', '#bfbabe'])\n",
    "plt.title('Средний AUC_ROC случайного леса при различных способах работы с дисбалансом')\n",
    "plt.show()"
   ]
  },
  {
   "cell_type": "markdown",
   "metadata": {},
   "source": [
    "#Из графика еще раз убеждаемся, что увеличение в выборке редкого класса - наиболее результативный способ работы с дисбалансом в проекции увеличения f1 меры. Мера auc_roc ялвляется не чувствительной к этому."
   ]
  },
  {
   "cell_type": "markdown",
   "metadata": {},
   "source": [
    "# 4. Тестирование модели"
   ]
  },
  {
   "cell_type": "markdown",
   "metadata": {},
   "source": [
    "#Так как наилучшие результаты показавала модель случайного леса, то на тестовых данных будем использовать ее, предварительно увеличив выборку."
   ]
  },
  {
   "cell_type": "code",
   "execution_count": 153,
   "metadata": {},
   "outputs": [
    {
     "data": {
      "text/plain": [
       "0.5861297539149888"
      ]
     },
     "execution_count": 153,
     "metadata": {},
     "output_type": "execute_result"
    }
   ],
   "source": [
    "model = RandomForestClassifier(n_estimators = 95, max_depth = 9, random_state = 12345)\n",
    "model.fit(features_upsampled, target_upsampled)\n",
    "valid_predictions = model.predict(test_features)\n",
    "f1_score(test_target, valid_predictions)"
   ]
  },
  {
   "cell_type": "code",
   "execution_count": 154,
   "metadata": {},
   "outputs": [
    {
     "name": "stdout",
     "output_type": "stream",
     "text": [
      "0.8672996154367243\n"
     ]
    }
   ],
   "source": [
    "probabilities_valid = model.predict_proba(valid_features)\n",
    "probabilities_one_valid = probabilities_valid[:, 1]\n",
    "auc_roc = roc_auc_score(valid_target, probabilities_one_valid)\n",
    "print(auc_roc)"
   ]
  },
  {
   "cell_type": "markdown",
   "metadata": {},
   "source": [
    "#На тестовых данных также взят барьер в 0.59.На f1-меру можно опираться при проблеме обучения моделей с дисбалансом. После устранения дисабалнса эта метрика растет, а AUC_ROC является к этому не чувствительным. "
   ]
  }
 ],
 "metadata": {
  "kernelspec": {
   "display_name": "Python 3",
   "language": "python",
   "name": "python3"
  },
  "language_info": {
   "codemirror_mode": {
    "name": "ipython",
    "version": 3
   },
   "file_extension": ".py",
   "mimetype": "text/x-python",
   "name": "python",
   "nbconvert_exporter": "python",
   "pygments_lexer": "ipython3",
   "version": "3.7.4"
  }
 },
 "nbformat": 4,
 "nbformat_minor": 2
}
